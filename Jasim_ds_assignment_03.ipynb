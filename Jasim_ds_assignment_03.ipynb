{
  "nbformat": 4,
  "nbformat_minor": 0,
  "metadata": {
    "colab": {
      "provenance": [],
      "authorship_tag": "ABX9TyPiwgMDY6Suh1H+ktpKevsn",
      "include_colab_link": true
    },
    "kernelspec": {
      "name": "python3",
      "display_name": "Python 3"
    },
    "language_info": {
      "name": "python"
    }
  },
  "cells": [
    {
      "cell_type": "markdown",
      "metadata": {
        "id": "view-in-github",
        "colab_type": "text"
      },
      "source": [
        "<a href=\"https://colab.research.google.com/github/mdjasimuddim/myPortfolio/blob/main/Jasim_ds_assignment_03.ipynb\" target=\"_parent\"><img src=\"https://colab.research.google.com/assets/colab-badge.svg\" alt=\"Open In Colab\"/></a>"
      ]
    },
    {
      "cell_type": "markdown",
      "source": [
        "# Nested Loop\n"
      ],
      "metadata": {
        "id": "ks31mzJOm4Uq"
      }
    },
    {
      "cell_type": "code",
      "source": [
        "\n",
        "n =4\n",
        "for i in range(n):\n",
        "  for j in range(i):\n",
        "    print('*',end = ' ')\n",
        "  print(' ')"
      ],
      "metadata": {
        "id": "ZTnkbkhep5fh",
        "colab": {
          "base_uri": "https://localhost:8080/"
        },
        "outputId": "35a4a4b6-536a-4596-9be0-fc60c6ff5253"
      },
      "execution_count": null,
      "outputs": [
        {
          "output_type": "stream",
          "name": "stdout",
          "text": [
            " \n",
            "*  \n",
            "* *  \n",
            "* * *  \n"
          ]
        }
      ]
    },
    {
      "cell_type": "code",
      "source": [
        "listNum = [1,2,3,4]\n",
        "for x in range(len(listNum)):\n",
        "  for y in range(len(listNum)):\n",
        "    print(listNum[y],end = ' ')\n",
        "  print('')"
      ],
      "metadata": {
        "colab": {
          "base_uri": "https://localhost:8080/"
        },
        "id": "1IC_JHc2oDXB",
        "outputId": "5362c59d-5e56-41f8-dbde-00f05a6c171b"
      },
      "execution_count": null,
      "outputs": [
        {
          "output_type": "stream",
          "name": "stdout",
          "text": [
            "1 2 3 4 \n",
            "1 2 3 4 \n",
            "1 2 3 4 \n",
            "1 2 3 4 \n"
          ]
        }
      ]
    },
    {
      "cell_type": "markdown",
      "source": [
        "Python List"
      ],
      "metadata": {
        "id": "C0Qehvkcs_0A"
      }
    },
    {
      "cell_type": "code",
      "source": [
        "li = [1,2,3,4,5,'jasim']\n",
        "print(len(li))"
      ],
      "metadata": {
        "colab": {
          "base_uri": "https://localhost:8080/"
        },
        "id": "51zMnLQxsDG4",
        "outputId": "7d2116f5-4ff0-4ab7-eda9-f6f77c845c2f"
      },
      "execution_count": null,
      "outputs": [
        {
          "output_type": "stream",
          "name": "stdout",
          "text": [
            "6\n"
          ]
        }
      ]
    },
    {
      "cell_type": "code",
      "source": [
        "li\n"
      ],
      "metadata": {
        "colab": {
          "base_uri": "https://localhost:8080/"
        },
        "id": "LX8qZ94Pu5U7",
        "outputId": "746de052-3ddf-4e15-cf9d-c69021e78bba"
      },
      "execution_count": null,
      "outputs": [
        {
          "output_type": "execute_result",
          "data": {
            "text/plain": [
              "[1, 2, 3, 4, 5, 'jasim']"
            ]
          },
          "metadata": {},
          "execution_count": 34
        }
      ]
    },
    {
      "cell_type": "code",
      "source": [
        "li[0]   #first index of a list"
      ],
      "metadata": {
        "colab": {
          "base_uri": "https://localhost:8080/"
        },
        "id": "fp7F0Aw_u8ei",
        "outputId": "66ed4a91-c23d-4951-f88d-da407fe0b502"
      },
      "execution_count": null,
      "outputs": [
        {
          "output_type": "execute_result",
          "data": {
            "text/plain": [
              "1"
            ]
          },
          "metadata": {},
          "execution_count": 35
        }
      ]
    },
    {
      "cell_type": "code",
      "source": [
        "li[-1]   #last index of a list"
      ],
      "metadata": {
        "colab": {
          "base_uri": "https://localhost:8080/",
          "height": 36
        },
        "id": "SzMyvYrLvNXa",
        "outputId": "928eaeba-88e3-437b-b63e-ff600616e057"
      },
      "execution_count": null,
      "outputs": [
        {
          "output_type": "execute_result",
          "data": {
            "text/plain": [
              "'jasim'"
            ],
            "application/vnd.google.colaboratory.intrinsic+json": {
              "type": "string"
            }
          },
          "metadata": {},
          "execution_count": 36
        }
      ]
    },
    {
      "cell_type": "code",
      "source": [
        "li[1:4]"
      ],
      "metadata": {
        "colab": {
          "base_uri": "https://localhost:8080/"
        },
        "id": "pYF_L0CLvQfx",
        "outputId": "9e428c36-9216-4f5d-9a37-de2a4ba4713b"
      },
      "execution_count": null,
      "outputs": [
        {
          "output_type": "execute_result",
          "data": {
            "text/plain": [
              "[2, 3, 4]"
            ]
          },
          "metadata": {},
          "execution_count": 37
        }
      ]
    },
    {
      "cell_type": "code",
      "source": [
        "li[0] = 'Bangladesh'"
      ],
      "metadata": {
        "id": "vOdzVzSYvsCZ"
      },
      "execution_count": null,
      "outputs": []
    },
    {
      "cell_type": "code",
      "source": [
        "\n",
        "li"
      ],
      "metadata": {
        "colab": {
          "base_uri": "https://localhost:8080/"
        },
        "id": "cNzUW15gv_Lq",
        "outputId": "04fa6fea-0b67-43e9-abe9-2e5eb75fc3ae"
      },
      "execution_count": null,
      "outputs": [
        {
          "output_type": "execute_result",
          "data": {
            "text/plain": [
              "['Bangladesh', 2, 3, 4, 5, 'jasim']"
            ]
          },
          "metadata": {},
          "execution_count": 39
        }
      ]
    },
    {
      "cell_type": "code",
      "source": [
        "li.append('Rahim')    #add element at the last index of a listS"
      ],
      "metadata": {
        "id": "oalVvFSrwGiq"
      },
      "execution_count": null,
      "outputs": []
    },
    {
      "cell_type": "code",
      "source": [
        "li"
      ],
      "metadata": {
        "colab": {
          "base_uri": "https://localhost:8080/"
        },
        "id": "m1kzyXh_wdWi",
        "outputId": "96d936b9-c688-4571-f8a4-80e013a9bf50"
      },
      "execution_count": null,
      "outputs": [
        {
          "output_type": "execute_result",
          "data": {
            "text/plain": [
              "['Bangladesh', 2, 3, 4, 5, 'jasim', 'Rahim']"
            ]
          },
          "metadata": {},
          "execution_count": 41
        }
      ]
    },
    {
      "cell_type": "code",
      "source": [
        "li.append(5)"
      ],
      "metadata": {
        "id": "AOTu1noHxI1a"
      },
      "execution_count": null,
      "outputs": []
    },
    {
      "cell_type": "code",
      "source": [
        "li"
      ],
      "metadata": {
        "colab": {
          "base_uri": "https://localhost:8080/"
        },
        "id": "YZ0DmQfNxMJJ",
        "outputId": "f3c55bae-a3a1-4e86-957f-e4c4aee6c92b"
      },
      "execution_count": null,
      "outputs": [
        {
          "output_type": "execute_result",
          "data": {
            "text/plain": [
              "['Bangladesh', 2, 3, 4, 5, 'jasim', 'Rahim', 5]"
            ]
          },
          "metadata": {},
          "execution_count": 43
        }
      ]
    },
    {
      "cell_type": "code",
      "source": [
        "import sys\n",
        "sys.getsizeof(li)"
      ],
      "metadata": {
        "colab": {
          "base_uri": "https://localhost:8080/"
        },
        "id": "upeKAMKxxN6w",
        "outputId": "095769c0-b893-436f-a688-d7d03f47d562"
      },
      "execution_count": null,
      "outputs": [
        {
          "output_type": "execute_result",
          "data": {
            "text/plain": [
              "136"
            ]
          },
          "metadata": {},
          "execution_count": 44
        }
      ]
    },
    {
      "cell_type": "code",
      "source": [
        "li.append('Rony')"
      ],
      "metadata": {
        "id": "60lLwkJfyXnw"
      },
      "execution_count": null,
      "outputs": []
    },
    {
      "cell_type": "code",
      "source": [
        "li"
      ],
      "metadata": {
        "colab": {
          "base_uri": "https://localhost:8080/"
        },
        "id": "YDPJ19whfbup",
        "outputId": "16f39a08-12db-47c1-ce22-81cd39e1f4d4"
      },
      "execution_count": null,
      "outputs": [
        {
          "output_type": "execute_result",
          "data": {
            "text/plain": [
              "['Bangladesh', 2, 3, 4, 5, 'jasim', 'Rahim', 5, 'Rony']"
            ]
          },
          "metadata": {},
          "execution_count": 46
        }
      ]
    },
    {
      "cell_type": "code",
      "source": [
        "type(li)"
      ],
      "metadata": {
        "colab": {
          "base_uri": "https://localhost:8080/"
        },
        "id": "mjwnUwYPgS1g",
        "outputId": "918fb80f-0214-4554-c589-6d4cbf618410"
      },
      "execution_count": null,
      "outputs": [
        {
          "output_type": "execute_result",
          "data": {
            "text/plain": [
              "list"
            ]
          },
          "metadata": {},
          "execution_count": 47
        }
      ]
    },
    {
      "cell_type": "code",
      "source": [
        "li[0:]"
      ],
      "metadata": {
        "colab": {
          "base_uri": "https://localhost:8080/"
        },
        "id": "r5DFMrWigjpk",
        "outputId": "efd237e3-73d2-4f60-a485-19a78638c2ad"
      },
      "execution_count": null,
      "outputs": [
        {
          "output_type": "execute_result",
          "data": {
            "text/plain": [
              "['Bangladesh', 2, 3, 4, 5, 'jasim', 'Rahim', 5, 'Rony']"
            ]
          },
          "metadata": {},
          "execution_count": 48
        }
      ]
    },
    {
      "cell_type": "code",
      "source": [
        "li[0] = 'liton'"
      ],
      "metadata": {
        "id": "gi0Lx72ZhF_7"
      },
      "execution_count": null,
      "outputs": []
    },
    {
      "cell_type": "code",
      "source": [
        "li"
      ],
      "metadata": {
        "colab": {
          "base_uri": "https://localhost:8080/"
        },
        "id": "aX9Jn72Ch8_g",
        "outputId": "e9f88ab4-ee36-4fd2-e953-0996dc692b2b"
      },
      "execution_count": null,
      "outputs": [
        {
          "output_type": "execute_result",
          "data": {
            "text/plain": [
              "['liton', 2, 3, 4, 5, 'jasim', 'Rahim', 5, 'Rony']"
            ]
          },
          "metadata": {},
          "execution_count": 50
        }
      ]
    },
    {
      "cell_type": "code",
      "source": [
        "\n",
        "# to delete the last element \n",
        "li.pop()"
      ],
      "metadata": {
        "colab": {
          "base_uri": "https://localhost:8080/",
          "height": 36
        },
        "id": "sbhCwzSoh98W",
        "outputId": "d18c3760-870f-4bc3-f3ea-739dfab3e94e"
      },
      "execution_count": null,
      "outputs": [
        {
          "output_type": "execute_result",
          "data": {
            "text/plain": [
              "'Rony'"
            ],
            "application/vnd.google.colaboratory.intrinsic+json": {
              "type": "string"
            }
          },
          "metadata": {},
          "execution_count": 51
        }
      ]
    },
    {
      "cell_type": "code",
      "source": [
        "li.pop(0)"
      ],
      "metadata": {
        "colab": {
          "base_uri": "https://localhost:8080/",
          "height": 36
        },
        "id": "X24FA5fwjKLT",
        "outputId": "2071ba7d-45b9-4c0f-97f5-92ff6479afa6"
      },
      "execution_count": null,
      "outputs": [
        {
          "output_type": "execute_result",
          "data": {
            "text/plain": [
              "'liton'"
            ],
            "application/vnd.google.colaboratory.intrinsic+json": {
              "type": "string"
            }
          },
          "metadata": {},
          "execution_count": 52
        }
      ]
    },
    {
      "cell_type": "code",
      "source": [
        "#Creating List Using List Constructor \n",
        "l2 = list(('ai', 12, (1,2,3,4)))\n",
        "l2"
      ],
      "metadata": {
        "colab": {
          "base_uri": "https://localhost:8080/"
        },
        "id": "6cvreH61jc4J",
        "outputId": "aee75ac5-b48b-450a-fdfe-59af94fc633b"
      },
      "execution_count": null,
      "outputs": [
        {
          "output_type": "execute_result",
          "data": {
            "text/plain": [
              "['ai', 12, (1, 2, 3, 4)]"
            ]
          },
          "metadata": {},
          "execution_count": 53
        }
      ]
    },
    {
      "cell_type": "code",
      "source": [
        "li[0]"
      ],
      "metadata": {
        "colab": {
          "base_uri": "https://localhost:8080/"
        },
        "id": "506G1tNFlrAG",
        "outputId": "88c27ec4-95aa-444d-e66f-4fcfa66eeace"
      },
      "execution_count": null,
      "outputs": [
        {
          "output_type": "execute_result",
          "data": {
            "text/plain": [
              "2"
            ]
          },
          "metadata": {},
          "execution_count": 54
        }
      ]
    },
    {
      "cell_type": "code",
      "source": [
        "l2[2]"
      ],
      "metadata": {
        "colab": {
          "base_uri": "https://localhost:8080/"
        },
        "id": "IcaKpTi2ltf9",
        "outputId": "09ab50c2-76d1-46cd-b3c2-16558e1e47f1"
      },
      "execution_count": null,
      "outputs": [
        {
          "output_type": "execute_result",
          "data": {
            "text/plain": [
              "(1, 2, 3, 4)"
            ]
          },
          "metadata": {},
          "execution_count": 55
        }
      ]
    },
    {
      "cell_type": "code",
      "source": [
        "type(l2)"
      ],
      "metadata": {
        "colab": {
          "base_uri": "https://localhost:8080/"
        },
        "id": "SYmYouOulu3z",
        "outputId": "ef482303-55d5-4412-f4f3-329a0957e30e"
      },
      "execution_count": null,
      "outputs": [
        {
          "output_type": "execute_result",
          "data": {
            "text/plain": [
              "list"
            ]
          },
          "metadata": {},
          "execution_count": 56
        }
      ]
    },
    {
      "cell_type": "code",
      "source": [
        "l2[2][0]"
      ],
      "metadata": {
        "colab": {
          "base_uri": "https://localhost:8080/"
        },
        "id": "qsK87Vqgl1cK",
        "outputId": "b91f622a-223d-4e64-bb57-a3fafcc3c252"
      },
      "execution_count": null,
      "outputs": [
        {
          "output_type": "execute_result",
          "data": {
            "text/plain": [
              "1"
            ]
          },
          "metadata": {},
          "execution_count": 57
        }
      ]
    },
    {
      "cell_type": "code",
      "source": [
        "#input list from user\n",
        "l3 = []\n",
        "n = int(input(\"Enter the list Index:\"))\n",
        "for i in range(n):\n",
        "  new = input();\n",
        "  l3.append(new)\n",
        "print(l3)"
      ],
      "metadata": {
        "colab": {
          "base_uri": "https://localhost:8080/"
        },
        "id": "YjUK_Mv8mCuJ",
        "outputId": "e5281b36-cae3-40db-c7a5-1b873adb174e"
      },
      "execution_count": null,
      "outputs": [
        {
          "output_type": "stream",
          "name": "stdout",
          "text": [
            "Enter the list Index:1\n",
            "2\n",
            "['2']\n"
          ]
        }
      ]
    },
    {
      "cell_type": "code",
      "source": [
        "l4 = list(('liton','rony','jasim',(1,2,3,4,5)))\n",
        "l4"
      ],
      "metadata": {
        "colab": {
          "base_uri": "https://localhost:8080/"
        },
        "id": "VqnZ_JIMo8Sg",
        "outputId": "3472ead1-1ca0-48a3-cc78-cb26412f18fc"
      },
      "execution_count": null,
      "outputs": [
        {
          "output_type": "execute_result",
          "data": {
            "text/plain": [
              "['liton', 'rony', 'jasim', (1, 2, 3, 4, 5)]"
            ]
          },
          "metadata": {},
          "execution_count": 59
        }
      ]
    },
    {
      "cell_type": "code",
      "source": [
        "\n",
        "type(l4)"
      ],
      "metadata": {
        "colab": {
          "base_uri": "https://localhost:8080/"
        },
        "id": "aZ30lyOErHAD",
        "outputId": "2029ad5f-2a5f-4265-d883-30deb6f5b673"
      },
      "execution_count": null,
      "outputs": [
        {
          "output_type": "execute_result",
          "data": {
            "text/plain": [
              "list"
            ]
          },
          "metadata": {},
          "execution_count": 60
        }
      ]
    },
    {
      "cell_type": "code",
      "source": [
        "l4[3][3]"
      ],
      "metadata": {
        "colab": {
          "base_uri": "https://localhost:8080/"
        },
        "id": "8HCISeakrJAC",
        "outputId": "d4a9db0b-cb74-4d97-b8a3-67856424fd37"
      },
      "execution_count": null,
      "outputs": [
        {
          "output_type": "execute_result",
          "data": {
            "text/plain": [
              "4"
            ]
          },
          "metadata": {},
          "execution_count": 61
        }
      ]
    },
    {
      "cell_type": "code",
      "source": [
        "l5 = []\n",
        "n = int(input('Enter the Element of list '))\n",
        "for i in range(n):\n",
        "  new = input()\n",
        "  l5.append(new)\n",
        "print(l5)"
      ],
      "metadata": {
        "colab": {
          "base_uri": "https://localhost:8080/"
        },
        "id": "M_k_cOm1rNo5",
        "outputId": "c829b676-f9cb-4b08-a9c3-bc6cf8214528"
      },
      "execution_count": null,
      "outputs": [
        {
          "output_type": "stream",
          "name": "stdout",
          "text": [
            "Enter the Element of list 1\n",
            "2\n",
            "['2']\n"
          ]
        }
      ]
    },
    {
      "cell_type": "code",
      "source": [
        "2# Python list mehods \n",
        "list1 = ['cs', 'ds', 'ai', (1,2,3,4), (2,3), True, (4,5)]\n",
        "list1[0]"
      ],
      "metadata": {
        "colab": {
          "base_uri": "https://localhost:8080/",
          "height": 36
        },
        "id": "D6Ykt0bSr1TJ",
        "outputId": "5620edbd-0054-44c4-b2e9-0a932a0bac8b"
      },
      "execution_count": null,
      "outputs": [
        {
          "output_type": "execute_result",
          "data": {
            "text/plain": [
              "'cs'"
            ],
            "application/vnd.google.colaboratory.intrinsic+json": {
              "type": "string"
            }
          },
          "metadata": {},
          "execution_count": 63
        }
      ]
    },
    {
      "cell_type": "code",
      "source": [
        "list1[-1]"
      ],
      "metadata": {
        "colab": {
          "base_uri": "https://localhost:8080/"
        },
        "id": "ivRVWtdcuBVm",
        "outputId": "87aba68d-8670-4973-8810-86c908706033"
      },
      "execution_count": null,
      "outputs": [
        {
          "output_type": "execute_result",
          "data": {
            "text/plain": [
              "(4, 5)"
            ]
          },
          "metadata": {},
          "execution_count": 64
        }
      ]
    },
    {
      "cell_type": "code",
      "source": [
        "# copy() methods of list\n",
        "list2 = list1"
      ],
      "metadata": {
        "id": "sLNwag3fuEk2"
      },
      "execution_count": null,
      "outputs": []
    },
    {
      "cell_type": "code",
      "source": [
        "list2"
      ],
      "metadata": {
        "colab": {
          "base_uri": "https://localhost:8080/"
        },
        "id": "ExQq0c0SvP_P",
        "outputId": "d105220a-d3cd-4dca-a7fc-fc1c12b08189"
      },
      "execution_count": null,
      "outputs": [
        {
          "output_type": "execute_result",
          "data": {
            "text/plain": [
              "['cs', 'ds', 'ai', (1, 2, 3, 4), (2, 3), True, (4, 5)]"
            ]
          },
          "metadata": {},
          "execution_count": 69
        }
      ]
    },
    {
      "cell_type": "code",
      "source": [
        "list1"
      ],
      "metadata": {
        "colab": {
          "base_uri": "https://localhost:8080/"
        },
        "id": "PSqYOzwPvR1q",
        "outputId": "2151276f-9204-46ca-b0b0-78a5934d155c"
      },
      "execution_count": null,
      "outputs": [
        {
          "output_type": "execute_result",
          "data": {
            "text/plain": [
              "['cs', 'ds', 'ai', (1, 2, 3, 4), (2, 3), True, (4, 5)]"
            ]
          },
          "metadata": {},
          "execution_count": 70
        }
      ]
    },
    {
      "cell_type": "code",
      "source": [
        "list3 = list1.copy()"
      ],
      "metadata": {
        "id": "txp1y9YWvVi2"
      },
      "execution_count": null,
      "outputs": []
    },
    {
      "cell_type": "code",
      "source": [
        "list3"
      ],
      "metadata": {
        "colab": {
          "base_uri": "https://localhost:8080/"
        },
        "id": "omHv1uuzvZmW",
        "outputId": "72e7fc9c-4c80-4c02-887c-f18c9e9720f2"
      },
      "execution_count": null,
      "outputs": [
        {
          "output_type": "execute_result",
          "data": {
            "text/plain": [
              "['cs', 'ds', 'ai', (1, 2, 3, 4), (2, 3), True, (4, 5)]"
            ]
          },
          "metadata": {},
          "execution_count": 72
        }
      ]
    },
    {
      "cell_type": "code",
      "source": [
        "list1[0] = 'jasim'"
      ],
      "metadata": {
        "id": "Rof3jIMiva-R"
      },
      "execution_count": null,
      "outputs": []
    },
    {
      "cell_type": "code",
      "source": [
        "list1"
      ],
      "metadata": {
        "colab": {
          "base_uri": "https://localhost:8080/"
        },
        "id": "Pvunr7OLvfs3",
        "outputId": "c35c2c67-c925-4e6c-bfb3-003f47b0c987"
      },
      "execution_count": null,
      "outputs": [
        {
          "output_type": "execute_result",
          "data": {
            "text/plain": [
              "['jasim', 'ds', 'ai', (1, 2, 3, 4), (2, 3), True, (4, 5)]"
            ]
          },
          "metadata": {},
          "execution_count": 74
        }
      ]
    },
    {
      "cell_type": "code",
      "source": [
        "list2"
      ],
      "metadata": {
        "colab": {
          "base_uri": "https://localhost:8080/"
        },
        "id": "7b7Oq3FQvjQI",
        "outputId": "307755a7-4d99-4138-d8a7-c8c075953b1c"
      },
      "execution_count": null,
      "outputs": [
        {
          "output_type": "execute_result",
          "data": {
            "text/plain": [
              "['jasim', 'ds', 'ai', (1, 2, 3, 4), (2, 3), True, (4, 5)]"
            ]
          },
          "metadata": {},
          "execution_count": 75
        }
      ]
    },
    {
      "cell_type": "code",
      "source": [
        "list3"
      ],
      "metadata": {
        "colab": {
          "base_uri": "https://localhost:8080/"
        },
        "id": "bHtOgRRnvlYC",
        "outputId": "ff0c9b35-6f21-44ad-9e7c-8524d57dbd90"
      },
      "execution_count": null,
      "outputs": [
        {
          "output_type": "execute_result",
          "data": {
            "text/plain": [
              "['cs', 'ds', 'ai', (1, 2, 3, 4), (2, 3), True, (4, 5)]"
            ]
          },
          "metadata": {},
          "execution_count": 76
        }
      ]
    },
    {
      "cell_type": "markdown",
      "source": [
        "# Append in List"
      ],
      "metadata": {
        "id": "Q_hvuop9-v7s"
      }
    },
    {
      "cell_type": "code",
      "source": [
        "l1 = [1,2,4,'jasim',True, False, 'Rahim',{'x', 'y', 'z'},(4,5,6)]\n",
        "l1\n",
        "l1\n",
        "list3\n"
      ],
      "metadata": {
        "id": "I5Z-x01qvnY9",
        "colab": {
          "base_uri": "https://localhost:8080/"
        },
        "outputId": "83188d49-0fb7-4b93-e665-b08015d6b948"
      },
      "execution_count": null,
      "outputs": [
        {
          "output_type": "execute_result",
          "data": {
            "text/plain": [
              "['cs', 'ds', 'ai', (1, 2, 3, 4), (2, 3), True, (4, 5)]"
            ]
          },
          "metadata": {},
          "execution_count": 77
        }
      ]
    },
    {
      "cell_type": "code",
      "source": [
        "l1[-1]"
      ],
      "metadata": {
        "colab": {
          "base_uri": "https://localhost:8080/"
        },
        "id": "HU9IJp95_D65",
        "outputId": "63ca130c-216c-4b15-f41a-0a59a3891273"
      },
      "execution_count": null,
      "outputs": [
        {
          "output_type": "execute_result",
          "data": {
            "text/plain": [
              "(4, 5, 6)"
            ]
          },
          "metadata": {},
          "execution_count": 78
        }
      ]
    },
    {
      "cell_type": "code",
      "source": [
        "li = ('delowar1', 'delowar2', 'nahid')\n",
        "l1.append(li)"
      ],
      "metadata": {
        "id": "4zCOFuU0_KyJ"
      },
      "execution_count": null,
      "outputs": []
    },
    {
      "cell_type": "code",
      "source": [
        "l1"
      ],
      "metadata": {
        "colab": {
          "base_uri": "https://localhost:8080/"
        },
        "id": "6kgItMdgAgSn",
        "outputId": "b045f011-d4ce-47d4-81fd-b41ec99a80e1"
      },
      "execution_count": null,
      "outputs": [
        {
          "output_type": "execute_result",
          "data": {
            "text/plain": [
              "[1,\n",
              " 2,\n",
              " 4,\n",
              " 'jasim',\n",
              " True,\n",
              " False,\n",
              " 'Rahim',\n",
              " {'x', 'y', 'z'},\n",
              " (4, 5, 6),\n",
              " ('delowar1', 'delowar2', 'nahid')]"
            ]
          },
          "metadata": {},
          "execution_count": 80
        }
      ]
    },
    {
      "cell_type": "code",
      "source": [
        "l1[-1]"
      ],
      "metadata": {
        "colab": {
          "base_uri": "https://localhost:8080/"
        },
        "id": "1PPdUYmJAhSV",
        "outputId": "dbe2c946-bf60-4356-c054-3b1f28983ae5"
      },
      "execution_count": null,
      "outputs": [
        {
          "output_type": "execute_result",
          "data": {
            "text/plain": [
              "('delowar1', 'delowar2', 'nahid')"
            ]
          },
          "metadata": {},
          "execution_count": 81
        }
      ]
    },
    {
      "cell_type": "code",
      "source": [
        "l1.extend(li)"
      ],
      "metadata": {
        "id": "GKBQqTjxAlFb"
      },
      "execution_count": null,
      "outputs": []
    },
    {
      "cell_type": "code",
      "source": [
        "l1"
      ],
      "metadata": {
        "colab": {
          "base_uri": "https://localhost:8080/"
        },
        "id": "8WFTBm40BHLS",
        "outputId": "d885d890-0973-4a12-876e-e9cf23d7d8d3"
      },
      "execution_count": null,
      "outputs": [
        {
          "output_type": "execute_result",
          "data": {
            "text/plain": [
              "[1,\n",
              " 2,\n",
              " 4,\n",
              " 'jasim',\n",
              " True,\n",
              " False,\n",
              " 'Rahim',\n",
              " {'x', 'y', 'z'},\n",
              " (4, 5, 6),\n",
              " ('delowar1', 'delowar2', 'nahid'),\n",
              " 'delowar1',\n",
              " 'delowar2',\n",
              " 'nahid']"
            ]
          },
          "metadata": {},
          "execution_count": 83
        }
      ]
    },
    {
      "cell_type": "code",
      "source": [
        "listofName = ['rahim','karim','salam','borkot','jabbar']"
      ],
      "metadata": {
        "id": "f1jHELBBBId4"
      },
      "execution_count": null,
      "outputs": []
    },
    {
      "cell_type": "code",
      "source": [
        "listofName"
      ],
      "metadata": {
        "colab": {
          "base_uri": "https://localhost:8080/"
        },
        "id": "hWVb6ESaCAg5",
        "outputId": "5ec8116f-dd20-45aa-9f30-5c860c7930b7"
      },
      "execution_count": null,
      "outputs": [
        {
          "output_type": "execute_result",
          "data": {
            "text/plain": [
              "['rahim', 'karim', 'salam', 'borkot', 'jabbar']"
            ]
          },
          "metadata": {},
          "execution_count": 85
        }
      ]
    },
    {
      "cell_type": "code",
      "source": [
        "listofName.extend('moin')"
      ],
      "metadata": {
        "id": "cTxawN0wCFKe"
      },
      "execution_count": null,
      "outputs": []
    },
    {
      "cell_type": "code",
      "source": [
        "listofName"
      ],
      "metadata": {
        "colab": {
          "base_uri": "https://localhost:8080/"
        },
        "id": "e8Jclc3GCrpg",
        "outputId": "e767d331-fb24-436d-f810-0bd65d3cc705"
      },
      "execution_count": null,
      "outputs": [
        {
          "output_type": "execute_result",
          "data": {
            "text/plain": [
              "['rahim', 'karim', 'salam', 'borkot', 'jabbar', 'm', 'o', 'i', 'n']"
            ]
          },
          "metadata": {},
          "execution_count": 87
        }
      ]
    },
    {
      "cell_type": "markdown",
      "source": [
        "## Insert"
      ],
      "metadata": {
        "id": "rLv3fPgkDiEH"
      }
    },
    {
      "cell_type": "code",
      "source": [
        "listofName.insert(0,'jasim')"
      ],
      "metadata": {
        "id": "L0hp27bBC8Rg"
      },
      "execution_count": null,
      "outputs": []
    },
    {
      "cell_type": "code",
      "source": [
        "listofName"
      ],
      "metadata": {
        "colab": {
          "base_uri": "https://localhost:8080/"
        },
        "id": "qXFdRo1MDuBH",
        "outputId": "64011e55-55f4-42e4-87f3-4a4cc6074f78"
      },
      "execution_count": null,
      "outputs": [
        {
          "output_type": "execute_result",
          "data": {
            "text/plain": [
              "['jasim', 'rahim', 'karim', 'salam', 'borkot', 'jabbar', 'm', 'o', 'i', 'n']"
            ]
          },
          "metadata": {},
          "execution_count": 89
        }
      ]
    },
    {
      "cell_type": "code",
      "source": [
        "listofName.insert(2,'Bangladesh')"
      ],
      "metadata": {
        "id": "Es4jZRK9DxJY"
      },
      "execution_count": null,
      "outputs": []
    },
    {
      "cell_type": "code",
      "source": [
        "listofName"
      ],
      "metadata": {
        "colab": {
          "base_uri": "https://localhost:8080/"
        },
        "id": "ibnV_HjjG3ud",
        "outputId": "daf48716-f930-499c-d1ea-b4c8fb6ec229"
      },
      "execution_count": null,
      "outputs": [
        {
          "output_type": "execute_result",
          "data": {
            "text/plain": [
              "['jasim',\n",
              " 'rahim',\n",
              " 'Bangladesh',\n",
              " 'karim',\n",
              " 'salam',\n",
              " 'borkot',\n",
              " 'jabbar',\n",
              " 'm',\n",
              " 'o',\n",
              " 'i',\n",
              " 'n']"
            ]
          },
          "metadata": {},
          "execution_count": 91
        }
      ]
    },
    {
      "cell_type": "markdown",
      "source": [
        "Index()"
      ],
      "metadata": {
        "id": "QqSl7YWNHVmZ"
      }
    },
    {
      "cell_type": "code",
      "source": [
        "listofName.index('Bangladesh')"
      ],
      "metadata": {
        "colab": {
          "base_uri": "https://localhost:8080/"
        },
        "id": "tpZKxDIFG5jp",
        "outputId": "03ad731b-70a0-4b0a-be6f-c67ee8b93c36"
      },
      "execution_count": null,
      "outputs": [
        {
          "output_type": "execute_result",
          "data": {
            "text/plain": [
              "2"
            ]
          },
          "metadata": {},
          "execution_count": 92
        }
      ]
    },
    {
      "cell_type": "code",
      "source": [
        "listofName.index('m')"
      ],
      "metadata": {
        "colab": {
          "base_uri": "https://localhost:8080/"
        },
        "id": "i29FWZhtHct1",
        "outputId": "72f80c75-bdf6-455e-caf9-f4052a0a8de0"
      },
      "execution_count": null,
      "outputs": [
        {
          "output_type": "execute_result",
          "data": {
            "text/plain": [
              "7"
            ]
          },
          "metadata": {},
          "execution_count": 93
        }
      ]
    },
    {
      "cell_type": "markdown",
      "source": [
        "# Count"
      ],
      "metadata": {
        "id": "SlTUrOdhL2q-"
      }
    },
    {
      "cell_type": "code",
      "source": [
        "listofName.count('m')"
      ],
      "metadata": {
        "colab": {
          "base_uri": "https://localhost:8080/"
        },
        "id": "iq6O1DBZLtnU",
        "outputId": "f7fb93a4-1979-4339-b538-284b8a450612"
      },
      "execution_count": null,
      "outputs": [
        {
          "output_type": "execute_result",
          "data": {
            "text/plain": [
              "1"
            ]
          },
          "metadata": {},
          "execution_count": 94
        }
      ]
    },
    {
      "cell_type": "code",
      "source": [
        "listofName.count('jasim')"
      ],
      "metadata": {
        "colab": {
          "base_uri": "https://localhost:8080/"
        },
        "id": "3jE65yFkMKRj",
        "outputId": "fced4819-b5a1-4671-dd90-7b6c51676b52"
      },
      "execution_count": null,
      "outputs": [
        {
          "output_type": "execute_result",
          "data": {
            "text/plain": [
              "1"
            ]
          },
          "metadata": {},
          "execution_count": 95
        }
      ]
    },
    {
      "cell_type": "markdown",
      "source": [
        "## Sort()"
      ],
      "metadata": {
        "id": "C7l2rcP8NlR9"
      }
    },
    {
      "cell_type": "code",
      "source": [
        "listofName.sort()"
      ],
      "metadata": {
        "id": "B6NKRwVpMXEw"
      },
      "execution_count": null,
      "outputs": []
    },
    {
      "cell_type": "code",
      "source": [
        "listofName"
      ],
      "metadata": {
        "colab": {
          "base_uri": "https://localhost:8080/"
        },
        "id": "ie2_XFdjNru2",
        "outputId": "459562a0-3647-4525-e55d-158d8e5fff7e"
      },
      "execution_count": null,
      "outputs": [
        {
          "output_type": "execute_result",
          "data": {
            "text/plain": [
              "['Bangladesh',\n",
              " 'borkot',\n",
              " 'i',\n",
              " 'jabbar',\n",
              " 'jasim',\n",
              " 'karim',\n",
              " 'm',\n",
              " 'n',\n",
              " 'o',\n",
              " 'rahim',\n",
              " 'salam']"
            ]
          },
          "metadata": {},
          "execution_count": 97
        }
      ]
    },
    {
      "cell_type": "code",
      "source": [
        "sortList = [2,10,1,5,6,12]\n",
        "sortList.sort()"
      ],
      "metadata": {
        "id": "yaemetB0Nt7B"
      },
      "execution_count": null,
      "outputs": []
    },
    {
      "cell_type": "code",
      "source": [
        "sortList"
      ],
      "metadata": {
        "colab": {
          "base_uri": "https://localhost:8080/"
        },
        "id": "GYsBHgsSN56a",
        "outputId": "0400ad58-ad49-422c-c26a-8e96e18eba95"
      },
      "execution_count": null,
      "outputs": [
        {
          "output_type": "execute_result",
          "data": {
            "text/plain": [
              "[1, 2, 5, 6, 10, 12]"
            ]
          },
          "metadata": {},
          "execution_count": 99
        }
      ]
    },
    {
      "cell_type": "markdown",
      "source": [
        "# Reverse()"
      ],
      "metadata": {
        "id": "c7Q0C09UOUPm"
      }
    },
    {
      "cell_type": "code",
      "source": [
        "sortList.reverse()"
      ],
      "metadata": {
        "id": "zw3wdvBhN8gt"
      },
      "execution_count": null,
      "outputs": []
    },
    {
      "cell_type": "code",
      "source": [
        "sortList"
      ],
      "metadata": {
        "colab": {
          "base_uri": "https://localhost:8080/"
        },
        "id": "ZhXbpj00OYSp",
        "outputId": "45fa47d7-fefd-4eda-ad12-490376655dbe"
      },
      "execution_count": null,
      "outputs": [
        {
          "output_type": "execute_result",
          "data": {
            "text/plain": [
              "[12, 10, 6, 5, 2, 1]"
            ]
          },
          "metadata": {},
          "execution_count": 101
        }
      ]
    },
    {
      "cell_type": "markdown",
      "source": [
        "# Remove()"
      ],
      "metadata": {
        "id": "QHz3MuD5O0xf"
      }
    },
    {
      "cell_type": "code",
      "source": [
        "sortList.remove(12)"
      ],
      "metadata": {
        "id": "Q6VmNT-VOZZg"
      },
      "execution_count": null,
      "outputs": []
    },
    {
      "cell_type": "code",
      "source": [
        "sortList"
      ],
      "metadata": {
        "id": "mAvwufpGO7xD"
      },
      "execution_count": null,
      "outputs": []
    },
    {
      "cell_type": "markdown",
      "source": [
        "# Pop()"
      ],
      "metadata": {
        "id": "iaCu_yzqPBUR"
      }
    },
    {
      "cell_type": "code",
      "source": [
        "sortList.pop()"
      ],
      "metadata": {
        "id": "uv8IB7i1O9dk"
      },
      "execution_count": null,
      "outputs": []
    },
    {
      "cell_type": "code",
      "source": [
        "sortList"
      ],
      "metadata": {
        "id": "vnuCoLxmPGrZ"
      },
      "execution_count": null,
      "outputs": []
    },
    {
      "cell_type": "code",
      "source": [
        "sortList.pop(-1)"
      ],
      "metadata": {
        "id": "0NFUBNd2PIoV"
      },
      "execution_count": null,
      "outputs": []
    },
    {
      "cell_type": "code",
      "source": [
        "sortList"
      ],
      "metadata": {
        "id": "rRNAlFJ4PM_9"
      },
      "execution_count": null,
      "outputs": []
    },
    {
      "cell_type": "code",
      "source": [
        "del sortList[0]"
      ],
      "metadata": {
        "id": "WcK1JYxsPVAT"
      },
      "execution_count": null,
      "outputs": []
    },
    {
      "cell_type": "code",
      "source": [
        "sortList"
      ],
      "metadata": {
        "id": "ksnujZfDQC9_"
      },
      "execution_count": null,
      "outputs": []
    },
    {
      "cell_type": "code",
      "source": [
        "sortList.clear()"
      ],
      "metadata": {
        "id": "3l9v_rn_QEQz"
      },
      "execution_count": null,
      "outputs": []
    },
    {
      "cell_type": "code",
      "source": [
        "sortList"
      ],
      "metadata": {
        "id": "fx-gFwrZQHF5"
      },
      "execution_count": null,
      "outputs": []
    },
    {
      "cell_type": "code",
      "source": [
        "type(sortList)"
      ],
      "metadata": {
        "id": "7sAzWm5VQIbX"
      },
      "execution_count": null,
      "outputs": []
    },
    {
      "cell_type": "markdown",
      "source": [
        "## **List Comprehension**"
      ],
      "metadata": {
        "id": "2cRHlEEaQfq-"
      }
    },
    {
      "cell_type": "code",
      "source": [
        "list1 = []\n",
        "for x in range(10):\n",
        "  list1.append(x)\n",
        "print(list1)"
      ],
      "metadata": {
        "id": "dPSylvlHQMOQ"
      },
      "execution_count": null,
      "outputs": []
    },
    {
      "cell_type": "code",
      "source": [
        "#using list comprehension\n",
        "list2 = [ x for x in range(10)]\n",
        "list2\n"
      ],
      "metadata": {
        "id": "bguiEMC_RTNd"
      },
      "execution_count": null,
      "outputs": []
    },
    {
      "cell_type": "code",
      "source": [
        "list3 = []\n",
        "for x in range(10):\n",
        "  if x % 2 == 1:   #even\n",
        "    list3.append(x)\n",
        "list3"
      ],
      "metadata": {
        "id": "Mfvz3wfsTF9a"
      },
      "execution_count": null,
      "outputs": []
    },
    {
      "cell_type": "code",
      "source": [
        "list4 = [ x for x in range(10) if x%2 == 1]\n",
        "list4"
      ],
      "metadata": {
        "id": "3BpK79QSTSvP"
      },
      "execution_count": null,
      "outputs": []
    },
    {
      "cell_type": "code",
      "source": [
        "#Iteration through list\n",
        "list5 = ['ds', 'ai', 'Rahim', 'jamal', 'kamal']\n",
        "list6 = [ x for x in list5 if x!= 'jamal']\n",
        "list6"
      ],
      "metadata": {
        "id": "1p_Bn2SEUJgF"
      },
      "execution_count": null,
      "outputs": []
    },
    {
      "cell_type": "code",
      "source": [
        "list7 = [1, 2, 3, 'jasim', 'zakir', 'Tarek', (4, 5, 6)]\n",
        "list8 = [x for x in list7 if type(x) == str]\n",
        "list8"
      ],
      "metadata": {
        "id": "rqCMvkurUeyv"
      },
      "execution_count": null,
      "outputs": []
    },
    {
      "cell_type": "code",
      "source": [
        "type ((1,2,3))"
      ],
      "metadata": {
        "id": "Pf_lFnFnZYtl"
      },
      "execution_count": null,
      "outputs": []
    },
    {
      "cell_type": "code",
      "source": [
        "list9 = [3**x for x in range(10)]\n",
        "list9"
      ],
      "metadata": {
        "id": "9dI4sgWyZa6m",
        "colab": {
          "base_uri": "https://localhost:8080/"
        },
        "outputId": "b3c4d9cb-3a67-4a34-e415-3075b2b16e19"
      },
      "execution_count": 1,
      "outputs": [
        {
          "output_type": "execute_result",
          "data": {
            "text/plain": [
              "[1, 3, 9, 27, 81, 243, 729, 2187, 6561, 19683]"
            ]
          },
          "metadata": {},
          "execution_count": 1
        }
      ]
    },
    {
      "cell_type": "markdown",
      "source": [
        "## List membership "
      ],
      "metadata": {
        "id": "H-pmHvMGbusu"
      }
    },
    {
      "cell_type": "code",
      "source": [
        "3 in list9"
      ],
      "metadata": {
        "id": "cP7H2aribpZx"
      },
      "execution_count": null,
      "outputs": []
    },
    {
      "cell_type": "code",
      "source": [
        "10 in list9"
      ],
      "metadata": {
        "id": "BcEYphl0b6fK"
      },
      "execution_count": null,
      "outputs": []
    },
    {
      "cell_type": "code",
      "source": [
        "9 in list9"
      ],
      "metadata": {
        "colab": {
          "base_uri": "https://localhost:8080/"
        },
        "id": "KrwvEMPeb8WB",
        "outputId": "a0e8aebc-c836-4a62-e44f-66ded71db4d5"
      },
      "execution_count": 2,
      "outputs": [
        {
          "output_type": "execute_result",
          "data": {
            "text/plain": [
              "True"
            ]
          },
          "metadata": {},
          "execution_count": 2
        }
      ]
    },
    {
      "cell_type": "markdown",
      "source": [
        "## Tuple in python "
      ],
      "metadata": {
        "id": "v9_aZlS9e_nu"
      }
    },
    {
      "cell_type": "code",
      "source": [
        "tup1 = ()"
      ],
      "metadata": {
        "id": "0WFj0sVCb-Ez"
      },
      "execution_count": null,
      "outputs": []
    },
    {
      "cell_type": "code",
      "source": [
        "type(tup1)"
      ],
      "metadata": {
        "id": "3Y-GkDoQfGFo"
      },
      "execution_count": null,
      "outputs": []
    },
    {
      "cell_type": "code",
      "source": [
        "tup1 = ('ds', 'rony mia', 'nstu', [1,2,3,4],{2,3,4},True, False)"
      ],
      "metadata": {
        "id": "bwWMFtCyfImn"
      },
      "execution_count": null,
      "outputs": []
    },
    {
      "cell_type": "code",
      "source": [
        "tup1[-1]"
      ],
      "metadata": {
        "colab": {
          "base_uri": "https://localhost:8080/"
        },
        "id": "QxnSp7KZfkMe",
        "outputId": "9b7ccf82-d66a-4270-9520-101d7debf0b5"
      },
      "execution_count": null,
      "outputs": [
        {
          "output_type": "execute_result",
          "data": {
            "text/plain": [
              "False"
            ]
          },
          "metadata": {},
          "execution_count": 4
        }
      ]
    },
    {
      "cell_type": "code",
      "source": [
        "tup1[1]"
      ],
      "metadata": {
        "colab": {
          "base_uri": "https://localhost:8080/"
        },
        "id": "lEQyqvKogFRp",
        "outputId": "e433a8f8-2c44-4dd1-9955-4ef06d832a5e"
      },
      "execution_count": null,
      "outputs": [
        {
          "output_type": "execute_result",
          "data": {
            "text/plain": [
              "'rony mia'"
            ],
            "application/vnd.google.colaboratory.intrinsic+json": {
              "type": "string"
            }
          },
          "metadata": {},
          "execution_count": 5
        }
      ]
    },
    {
      "cell_type": "code",
      "source": [
        "tup1[2]"
      ],
      "metadata": {
        "colab": {
          "base_uri": "https://localhost:8080/"
        },
        "id": "F4jhHAungGrV",
        "outputId": "7988fdf0-e9f9-4835-f128-d91cc0040d65"
      },
      "execution_count": null,
      "outputs": [
        {
          "output_type": "execute_result",
          "data": {
            "text/plain": [
              "'nstu'"
            ],
            "application/vnd.google.colaboratory.intrinsic+json": {
              "type": "string"
            }
          },
          "metadata": {},
          "execution_count": 6
        }
      ]
    },
    {
      "cell_type": "code",
      "source": [
        "tup1[3]"
      ],
      "metadata": {
        "colab": {
          "base_uri": "https://localhost:8080/"
        },
        "id": "AE9BZpkmgQQ2",
        "outputId": "6bdd1911-4bd2-4719-9769-d234640085a0"
      },
      "execution_count": null,
      "outputs": [
        {
          "output_type": "execute_result",
          "data": {
            "text/plain": [
              "[1, 2, 3, 4]"
            ]
          },
          "metadata": {},
          "execution_count": 7
        }
      ]
    },
    {
      "cell_type": "code",
      "source": [
        "tup1[0:4]"
      ],
      "metadata": {
        "colab": {
          "base_uri": "https://localhost:8080/"
        },
        "id": "9MuBL7ZagSdn",
        "outputId": "4fb6db53-80f5-489f-e3ba-79813fed304c"
      },
      "execution_count": null,
      "outputs": [
        {
          "output_type": "execute_result",
          "data": {
            "text/plain": [
              "('ds', 'rony mia', 'nstu', [1, 2, 3, 4])"
            ]
          },
          "metadata": {},
          "execution_count": 8
        }
      ]
    },
    {
      "cell_type": "code",
      "source": [
        "tup2 = ['jasim']\n",
        "tup2"
      ],
      "metadata": {
        "colab": {
          "base_uri": "https://localhost:8080/"
        },
        "id": "VCGvIdE-oi6N",
        "outputId": "8f3d632f-f445-4d34-d8bc-0e8624c3a44f"
      },
      "execution_count": null,
      "outputs": [
        {
          "output_type": "execute_result",
          "data": {
            "text/plain": [
              "['jasim']"
            ]
          },
          "metadata": {},
          "execution_count": 9
        }
      ]
    },
    {
      "cell_type": "code",
      "source": [
        "type(tup2)"
      ],
      "metadata": {
        "colab": {
          "base_uri": "https://localhost:8080/"
        },
        "id": "suRo-JOiouY_",
        "outputId": "5441b76a-7709-41e5-c1a0-7a72b95c49c1"
      },
      "execution_count": null,
      "outputs": [
        {
          "output_type": "execute_result",
          "data": {
            "text/plain": [
              "list"
            ]
          },
          "metadata": {},
          "execution_count": 10
        }
      ]
    },
    {
      "cell_type": "code",
      "source": [
        "tup2 = ('Rahim')"
      ],
      "metadata": {
        "id": "IAge0aZoovzh"
      },
      "execution_count": null,
      "outputs": []
    },
    {
      "cell_type": "code",
      "source": [
        "type(tup2)"
      ],
      "metadata": {
        "colab": {
          "base_uri": "https://localhost:8080/"
        },
        "id": "ku3Y23Nso280",
        "outputId": "423b1a8b-3c79-4c5c-adbf-74eaed52daa6"
      },
      "execution_count": null,
      "outputs": [
        {
          "output_type": "execute_result",
          "data": {
            "text/plain": [
              "str"
            ]
          },
          "metadata": {},
          "execution_count": 12
        }
      ]
    },
    {
      "cell_type": "code",
      "source": [
        "tup2 = ('Rahim',)"
      ],
      "metadata": {
        "id": "bCrawUrAo5ee"
      },
      "execution_count": null,
      "outputs": []
    },
    {
      "cell_type": "code",
      "source": [
        "type(tup2)"
      ],
      "metadata": {
        "colab": {
          "base_uri": "https://localhost:8080/"
        },
        "id": "__HSML4fpCmJ",
        "outputId": "39956f72-9700-4256-8248-a1911bfa32be"
      },
      "execution_count": null,
      "outputs": [
        {
          "output_type": "execute_result",
          "data": {
            "text/plain": [
              "tuple"
            ]
          },
          "metadata": {},
          "execution_count": 14
        }
      ]
    },
    {
      "cell_type": "code",
      "source": [
        "tup1 = ('Rahim','Karim')"
      ],
      "metadata": {
        "id": "zoZl5MiNpEck"
      },
      "execution_count": null,
      "outputs": []
    },
    {
      "cell_type": "code",
      "source": [],
      "metadata": {
        "id": "DCeQfE6npag3"
      },
      "execution_count": null,
      "outputs": []
    },
    {
      "cell_type": "code",
      "source": [
        "tup3 = tuple([1,2,3,4])"
      ],
      "metadata": {
        "id": "zZzGmeR8pvoz"
      },
      "execution_count": null,
      "outputs": []
    },
    {
      "cell_type": "code",
      "source": [
        "tup3"
      ],
      "metadata": {
        "colab": {
          "base_uri": "https://localhost:8080/"
        },
        "id": "Z0mVU9ehtLKN",
        "outputId": "2168dfc2-ea57-445e-91d6-10fa27cf1b2f"
      },
      "execution_count": null,
      "outputs": [
        {
          "output_type": "execute_result",
          "data": {
            "text/plain": [
              "(1, 2, 3, 4)"
            ]
          },
          "metadata": {},
          "execution_count": 17
        }
      ]
    },
    {
      "cell_type": "code",
      "source": [
        "tup1 = ('jasim',)"
      ],
      "metadata": {
        "id": "3-5R88bKtMIn"
      },
      "execution_count": null,
      "outputs": []
    },
    {
      "cell_type": "code",
      "source": [
        "tup2 = (1,2,3,4)"
      ],
      "metadata": {
        "id": "tUXbC3H0tSBJ"
      },
      "execution_count": null,
      "outputs": []
    },
    {
      "cell_type": "code",
      "source": [
        "tup1 + tup2"
      ],
      "metadata": {
        "colab": {
          "base_uri": "https://localhost:8080/"
        },
        "id": "Ig2584zNuTqC",
        "outputId": "3524fc89-41ef-4885-f06f-285404e0c769"
      },
      "execution_count": null,
      "outputs": [
        {
          "output_type": "execute_result",
          "data": {
            "text/plain": [
              "('jasim', 1, 2, 3, 4)"
            ]
          },
          "metadata": {},
          "execution_count": 20
        }
      ]
    },
    {
      "cell_type": "code",
      "source": [
        "tup2 + tup1"
      ],
      "metadata": {
        "colab": {
          "base_uri": "https://localhost:8080/"
        },
        "id": "m20xR4p1uVTz",
        "outputId": "23dae203-d3a1-4af9-82dc-ba1c68ba35b0"
      },
      "execution_count": null,
      "outputs": [
        {
          "output_type": "execute_result",
          "data": {
            "text/plain": [
              "(1, 2, 3, 4, 'jasim')"
            ]
          },
          "metadata": {},
          "execution_count": 21
        }
      ]
    },
    {
      "cell_type": "code",
      "source": [
        "tup3 * 3"
      ],
      "metadata": {
        "colab": {
          "base_uri": "https://localhost:8080/"
        },
        "id": "3i2P4eoxuXj0",
        "outputId": "5c5ea862-abc1-4349-b1e2-98af49e2496d"
      },
      "execution_count": null,
      "outputs": [
        {
          "output_type": "execute_result",
          "data": {
            "text/plain": [
              "(1, 2, 3, 4, 1, 2, 3, 4, 1, 2, 3, 4)"
            ]
          },
          "metadata": {},
          "execution_count": 22
        }
      ]
    },
    {
      "cell_type": "code",
      "source": [
        "tup3*4"
      ],
      "metadata": {
        "colab": {
          "base_uri": "https://localhost:8080/"
        },
        "id": "TiOaRIUlukYT",
        "outputId": "f0afee71-740c-4e17-b706-a6dedc2e165f"
      },
      "execution_count": null,
      "outputs": [
        {
          "output_type": "execute_result",
          "data": {
            "text/plain": [
              "(1, 2, 3, 4, 1, 2, 3, 4, 1, 2, 3, 4, 1, 2, 3, 4)"
            ]
          },
          "metadata": {},
          "execution_count": 23
        }
      ]
    },
    {
      "cell_type": "code",
      "source": [
        "tup3.count(4)"
      ],
      "metadata": {
        "colab": {
          "base_uri": "https://localhost:8080/"
        },
        "id": "reFZiFGaumCZ",
        "outputId": "60b26f55-362f-4aec-9042-248aa772b70c"
      },
      "execution_count": null,
      "outputs": [
        {
          "output_type": "execute_result",
          "data": {
            "text/plain": [
              "1"
            ]
          },
          "metadata": {},
          "execution_count": 24
        }
      ]
    },
    {
      "cell_type": "code",
      "source": [
        "tup3.index(4)"
      ],
      "metadata": {
        "colab": {
          "base_uri": "https://localhost:8080/"
        },
        "id": "-jrP7AUIvNnd",
        "outputId": "867f2409-67d5-4b63-d82b-01f850827972"
      },
      "execution_count": null,
      "outputs": [
        {
          "output_type": "execute_result",
          "data": {
            "text/plain": [
              "3"
            ]
          },
          "metadata": {},
          "execution_count": 25
        }
      ]
    },
    {
      "cell_type": "code",
      "source": [
        "tup3.count(1)"
      ],
      "metadata": {
        "colab": {
          "base_uri": "https://localhost:8080/"
        },
        "id": "OeFD9DwmvSNI",
        "outputId": "c58d684f-1a69-462a-d271-8c16e727e2c8"
      },
      "execution_count": null,
      "outputs": [
        {
          "output_type": "execute_result",
          "data": {
            "text/plain": [
              "1"
            ]
          },
          "metadata": {},
          "execution_count": 26
        }
      ]
    },
    {
      "cell_type": "code",
      "source": [
        "#membership operator in tuple\n",
        "4 in tup3"
      ],
      "metadata": {
        "colab": {
          "base_uri": "https://localhost:8080/"
        },
        "id": "HWBeE9X5vfW_",
        "outputId": "08d83b4d-09da-4615-de1c-1d10dfbe4008"
      },
      "execution_count": null,
      "outputs": [
        {
          "output_type": "execute_result",
          "data": {
            "text/plain": [
              "True"
            ]
          },
          "metadata": {},
          "execution_count": 27
        }
      ]
    },
    {
      "cell_type": "code",
      "source": [
        "tup3[0:]"
      ],
      "metadata": {
        "colab": {
          "base_uri": "https://localhost:8080/"
        },
        "id": "4tzJhU-NvzZf",
        "outputId": "564eb49c-4be8-4a44-9bd1-31fb8a1ae72e"
      },
      "execution_count": null,
      "outputs": [
        {
          "output_type": "execute_result",
          "data": {
            "text/plain": [
              "(1, 2, 3, 4)"
            ]
          },
          "metadata": {},
          "execution_count": 28
        }
      ]
    },
    {
      "cell_type": "code",
      "source": [
        "tup3[3]"
      ],
      "metadata": {
        "colab": {
          "base_uri": "https://localhost:8080/"
        },
        "id": "qPg6SrHNwKT1",
        "outputId": "7946e946-715b-4700-f4c3-2022a8dc474e"
      },
      "execution_count": null,
      "outputs": [
        {
          "output_type": "execute_result",
          "data": {
            "text/plain": [
              "4"
            ]
          },
          "metadata": {},
          "execution_count": 29
        }
      ]
    },
    {
      "cell_type": "code",
      "source": [
        "tup = ('tahim','samim','rasel','Bangladesh','karim',['jolil','kholil','delowar'],True)\n",
        "tup\n"
      ],
      "metadata": {
        "colab": {
          "base_uri": "https://localhost:8080/"
        },
        "id": "cHGMZJDhwR5D",
        "outputId": "3aab9ac2-6f04-45df-eee3-12ecee2e9608"
      },
      "execution_count": null,
      "outputs": [
        {
          "output_type": "execute_result",
          "data": {
            "text/plain": [
              "('tahim',\n",
              " 'samim',\n",
              " 'rasel',\n",
              " 'Bangladesh',\n",
              " 'karim',\n",
              " ['jolil', 'kholil', 'delowar'],\n",
              " True)"
            ]
          },
          "metadata": {},
          "execution_count": 30
        }
      ]
    },
    {
      "cell_type": "code",
      "source": [
        "tup[-2][0]"
      ],
      "metadata": {
        "colab": {
          "base_uri": "https://localhost:8080/"
        },
        "id": "2EuZvg5gxtol",
        "outputId": "e62c383b-649c-433f-a567-e5f55fdca962"
      },
      "execution_count": null,
      "outputs": [
        {
          "output_type": "execute_result",
          "data": {
            "text/plain": [
              "'jolil'"
            ],
            "application/vnd.google.colaboratory.intrinsic+json": {
              "type": "string"
            }
          },
          "metadata": {},
          "execution_count": 31
        }
      ]
    },
    {
      "cell_type": "code",
      "source": [
        "tup[-2][-2]"
      ],
      "metadata": {
        "colab": {
          "base_uri": "https://localhost:8080/"
        },
        "id": "2rBJkZPEx3O6",
        "outputId": "5b07168b-b894-45ed-8cec-8209075101ab"
      },
      "execution_count": null,
      "outputs": [
        {
          "output_type": "execute_result",
          "data": {
            "text/plain": [
              "'kholil'"
            ],
            "application/vnd.google.colaboratory.intrinsic+json": {
              "type": "string"
            }
          },
          "metadata": {},
          "execution_count": 32
        }
      ]
    },
    {
      "cell_type": "markdown",
      "source": [
        "## Sets in python"
      ],
      "metadata": {
        "id": "CBn9S6w4yHZs"
      }
    },
    {
      "cell_type": "code",
      "source": [
        "# Sets in python\n",
        "set1 = {1,2,3,4,5,'Rahim','Karim',(2,3,4)}\n",
        "set1"
      ],
      "metadata": {
        "colab": {
          "base_uri": "https://localhost:8080/"
        },
        "id": "I9D8KYD4x6BQ",
        "outputId": "aaa0b9f3-e67f-455a-aebb-e4142b461b12"
      },
      "execution_count": null,
      "outputs": [
        {
          "output_type": "execute_result",
          "data": {
            "text/plain": [
              "{(2, 3, 4), 1, 2, 3, 4, 5, 'Karim', 'Rahim'}"
            ]
          },
          "metadata": {},
          "execution_count": 33
        }
      ]
    },
    {
      "cell_type": "code",
      "source": [
        "type(set1)"
      ],
      "metadata": {
        "colab": {
          "base_uri": "https://localhost:8080/"
        },
        "id": "8UGQRzsdzVjL",
        "outputId": "89414e8f-52ce-4ebe-f4a9-03679b5e6947"
      },
      "execution_count": null,
      "outputs": [
        {
          "output_type": "execute_result",
          "data": {
            "text/plain": [
              "set"
            ]
          },
          "metadata": {},
          "execution_count": 34
        }
      ]
    },
    {
      "cell_type": "code",
      "source": [
        "set1 = {1,2,3,4,5,'Rahim','Karim',(2,3,4)}"
      ],
      "metadata": {
        "id": "ERBokj3vzY-a"
      },
      "execution_count": null,
      "outputs": []
    },
    {
      "cell_type": "code",
      "source": [
        "set2 = {}\n",
        "li = []"
      ],
      "metadata": {
        "id": "3yvdMlKGzcWC"
      },
      "execution_count": null,
      "outputs": []
    },
    {
      "cell_type": "code",
      "source": [
        "type(set2)"
      ],
      "metadata": {
        "colab": {
          "base_uri": "https://localhost:8080/"
        },
        "id": "e5p-UtUPzu0K",
        "outputId": "95443795-9f10-4e5b-c28a-d7f04dc4f4ae"
      },
      "execution_count": null,
      "outputs": [
        {
          "output_type": "execute_result",
          "data": {
            "text/plain": [
              "dict"
            ]
          },
          "metadata": {},
          "execution_count": 37
        }
      ]
    },
    {
      "cell_type": "code",
      "source": [
        "type(li)"
      ],
      "metadata": {
        "colab": {
          "base_uri": "https://localhost:8080/"
        },
        "id": "rZEOA8jPzv-K",
        "outputId": "30232cbf-c307-4b26-dec5-1829b123a230"
      },
      "execution_count": null,
      "outputs": [
        {
          "output_type": "execute_result",
          "data": {
            "text/plain": [
              "list"
            ]
          },
          "metadata": {},
          "execution_count": 38
        }
      ]
    },
    {
      "cell_type": "code",
      "source": [
        "set3 = set()"
      ],
      "metadata": {
        "id": "Wie4zgSuzx3c"
      },
      "execution_count": null,
      "outputs": []
    },
    {
      "cell_type": "code",
      "source": [
        "type(set3)"
      ],
      "metadata": {
        "colab": {
          "base_uri": "https://localhost:8080/"
        },
        "id": "S7k7DHKLz_Qi",
        "outputId": "92e1875a-6c8c-4143-f451-ef73c192c755"
      },
      "execution_count": null,
      "outputs": [
        {
          "output_type": "execute_result",
          "data": {
            "text/plain": [
              "set"
            ]
          },
          "metadata": {},
          "execution_count": 40
        }
      ]
    },
    {
      "cell_type": "code",
      "source": [
        "tup = tuple()"
      ],
      "metadata": {
        "id": "JKxRTZVv0B_D"
      },
      "execution_count": null,
      "outputs": []
    },
    {
      "cell_type": "code",
      "source": [
        "type(tup)"
      ],
      "metadata": {
        "colab": {
          "base_uri": "https://localhost:8080/"
        },
        "id": "VSjeDrCd0JEn",
        "outputId": "41d4973e-acad-43c1-f595-54c77e82a51d"
      },
      "execution_count": null,
      "outputs": [
        {
          "output_type": "execute_result",
          "data": {
            "text/plain": [
              "tuple"
            ]
          },
          "metadata": {},
          "execution_count": 42
        }
      ]
    },
    {
      "cell_type": "code",
      "source": [
        "l1 = (1,2,3)\n"
      ],
      "metadata": {
        "id": "bKzx6frl0Pb6"
      },
      "execution_count": null,
      "outputs": []
    },
    {
      "cell_type": "code",
      "source": [
        "set1 = {(1,2,3),2,5,'jasim',True, 'false'}"
      ],
      "metadata": {
        "id": "jD-I8NtKSMB_"
      },
      "execution_count": null,
      "outputs": []
    },
    {
      "cell_type": "code",
      "source": [
        "set1"
      ],
      "metadata": {
        "colab": {
          "base_uri": "https://localhost:8080/"
        },
        "id": "VboalybsSOyX",
        "outputId": "8bd4fd81-624f-45ed-f6e0-3cb3f534ae29"
      },
      "execution_count": null,
      "outputs": [
        {
          "output_type": "execute_result",
          "data": {
            "text/plain": [
              "{(1, 2, 3), 2, 5, True, 'false', 'jasim'}"
            ]
          },
          "metadata": {},
          "execution_count": 45
        }
      ]
    },
    {
      "cell_type": "code",
      "source": [
        "set1.add('sakil')"
      ],
      "metadata": {
        "id": "IOwETWTRlPqm"
      },
      "execution_count": null,
      "outputs": []
    },
    {
      "cell_type": "code",
      "source": [
        "set1"
      ],
      "metadata": {
        "colab": {
          "base_uri": "https://localhost:8080/"
        },
        "id": "HhclusCYlUT8",
        "outputId": "855c610a-8bea-43d9-dec8-fb2fa7f2a7e1"
      },
      "execution_count": null,
      "outputs": [
        {
          "output_type": "execute_result",
          "data": {
            "text/plain": [
              "{(1, 2, 3), 2, 5, True, 'false', 'jasim', 'sakil'}"
            ]
          },
          "metadata": {},
          "execution_count": 47
        }
      ]
    },
    {
      "cell_type": "code",
      "source": [
        "set1.add('jobaida')"
      ],
      "metadata": {
        "id": "BdH3pR5WlV3Y"
      },
      "execution_count": null,
      "outputs": []
    },
    {
      "cell_type": "code",
      "source": [
        "set1"
      ],
      "metadata": {
        "colab": {
          "base_uri": "https://localhost:8080/"
        },
        "id": "FdAWyjPFlaTu",
        "outputId": "fe05d366-e7a7-493f-a1b2-ce044ce8fbb2"
      },
      "execution_count": null,
      "outputs": [
        {
          "output_type": "execute_result",
          "data": {
            "text/plain": [
              "{(1, 2, 3), 2, 5, True, 'false', 'jasim', 'jobaida', 'sakil'}"
            ]
          },
          "metadata": {},
          "execution_count": 49
        }
      ]
    },
    {
      "cell_type": "code",
      "source": [
        "set1.add(2)"
      ],
      "metadata": {
        "id": "GvQEeUqDlc6R"
      },
      "execution_count": null,
      "outputs": []
    },
    {
      "cell_type": "code",
      "source": [
        "set1"
      ],
      "metadata": {
        "colab": {
          "base_uri": "https://localhost:8080/"
        },
        "id": "XnplzPwrlnmO",
        "outputId": "367ce9d1-fe87-49c8-9091-5bd531593a7b"
      },
      "execution_count": null,
      "outputs": [
        {
          "output_type": "execute_result",
          "data": {
            "text/plain": [
              "{(1, 2, 3), 2, 5, True, 'false', 'jasim', 'jobaida', 'sakil'}"
            ]
          },
          "metadata": {},
          "execution_count": 51
        }
      ]
    },
    {
      "cell_type": "code",
      "source": [
        "set1.update([2,3,4,5])  #add for multiple value in set"
      ],
      "metadata": {
        "id": "HUPvcju2lo7M"
      },
      "execution_count": null,
      "outputs": []
    },
    {
      "cell_type": "code",
      "source": [
        "set1"
      ],
      "metadata": {
        "colab": {
          "base_uri": "https://localhost:8080/"
        },
        "id": "Fz57sb4yl8lK",
        "outputId": "8b6da8e5-4479-4d92-f4ad-87e6f3122dee"
      },
      "execution_count": null,
      "outputs": [
        {
          "output_type": "execute_result",
          "data": {
            "text/plain": [
              "{(1, 2, 3), 2, 3, 4, 5, True, 'false', 'jasim', 'jobaida', 'sakil'}"
            ]
          },
          "metadata": {},
          "execution_count": 53
        }
      ]
    },
    {
      "cell_type": "code",
      "source": [
        "set1.update(['kayem','votu','rubel','suju'])"
      ],
      "metadata": {
        "id": "SHN4Y728l99N"
      },
      "execution_count": null,
      "outputs": []
    },
    {
      "cell_type": "code",
      "source": [
        "set1"
      ],
      "metadata": {
        "colab": {
          "base_uri": "https://localhost:8080/"
        },
        "id": "3Q7e5OUxmMvZ",
        "outputId": "3e2955f3-1c26-4afd-89c3-b006671908bd"
      },
      "execution_count": null,
      "outputs": [
        {
          "output_type": "execute_result",
          "data": {
            "text/plain": [
              "{(1, 2, 3),\n",
              " 2,\n",
              " 3,\n",
              " 4,\n",
              " 5,\n",
              " True,\n",
              " 'false',\n",
              " 'jasim',\n",
              " 'jobaida',\n",
              " 'kayem',\n",
              " 'rubel',\n",
              " 'sakil',\n",
              " 'suju',\n",
              " 'votu'}"
            ]
          },
          "metadata": {},
          "execution_count": 55
        }
      ]
    },
    {
      "cell_type": "code",
      "source": [
        "#remove element from a set\n",
        "set1.remove(2)"
      ],
      "metadata": {
        "id": "-V31ShOJmOIF"
      },
      "execution_count": null,
      "outputs": []
    },
    {
      "cell_type": "code",
      "source": [
        "set1"
      ],
      "metadata": {
        "colab": {
          "base_uri": "https://localhost:8080/"
        },
        "id": "Jm6kw8oNnB2n",
        "outputId": "816773a4-f775-4e5a-f73f-481636c151c3"
      },
      "execution_count": null,
      "outputs": [
        {
          "output_type": "execute_result",
          "data": {
            "text/plain": [
              "{(1, 2, 3),\n",
              " 3,\n",
              " 4,\n",
              " 5,\n",
              " True,\n",
              " 'false',\n",
              " 'jasim',\n",
              " 'jobaida',\n",
              " 'kayem',\n",
              " 'rubel',\n",
              " 'sakil',\n",
              " 'suju',\n",
              " 'votu'}"
            ]
          },
          "metadata": {},
          "execution_count": 57
        }
      ]
    },
    {
      "cell_type": "code",
      "source": [
        "set1.discard(5)"
      ],
      "metadata": {
        "id": "hNNr89STnDkI"
      },
      "execution_count": null,
      "outputs": []
    },
    {
      "cell_type": "code",
      "source": [
        "set1"
      ],
      "metadata": {
        "colab": {
          "base_uri": "https://localhost:8080/"
        },
        "id": "6LwzBFg8nG7_",
        "outputId": "2fc60a24-4e35-4d10-a2ab-78d269a25af6"
      },
      "execution_count": null,
      "outputs": [
        {
          "output_type": "execute_result",
          "data": {
            "text/plain": [
              "{(1, 2, 3),\n",
              " 3,\n",
              " 4,\n",
              " True,\n",
              " 'false',\n",
              " 'jasim',\n",
              " 'jobaida',\n",
              " 'kayem',\n",
              " 'rubel',\n",
              " 'sakil',\n",
              " 'suju',\n",
              " 'votu'}"
            ]
          },
          "metadata": {},
          "execution_count": 59
        }
      ]
    },
    {
      "cell_type": "code",
      "source": [
        "set1.discard('jobaida')"
      ],
      "metadata": {
        "id": "LepxNKxjnIga"
      },
      "execution_count": null,
      "outputs": []
    },
    {
      "cell_type": "code",
      "source": [
        "set1"
      ],
      "metadata": {
        "colab": {
          "base_uri": "https://localhost:8080/"
        },
        "id": "h6onb6OBnNg2",
        "outputId": "55f61fd1-c91e-42bf-c1cd-c59e59ee2f75"
      },
      "execution_count": null,
      "outputs": [
        {
          "output_type": "execute_result",
          "data": {
            "text/plain": [
              "{(1, 2, 3),\n",
              " 3,\n",
              " 4,\n",
              " True,\n",
              " 'false',\n",
              " 'jasim',\n",
              " 'kayem',\n",
              " 'rubel',\n",
              " 'sakil',\n",
              " 'suju',\n",
              " 'votu'}"
            ]
          },
          "metadata": {},
          "execution_count": 61
        }
      ]
    },
    {
      "cell_type": "code",
      "source": [
        "set1.clear()"
      ],
      "metadata": {
        "id": "PnZTUY_unOkd"
      },
      "execution_count": null,
      "outputs": []
    },
    {
      "cell_type": "code",
      "source": [
        "set1"
      ],
      "metadata": {
        "colab": {
          "base_uri": "https://localhost:8080/"
        },
        "id": "CJ2HdsmanuMB",
        "outputId": "55da76ec-c7c2-4f53-b6e7-95ecb6a52e35"
      },
      "execution_count": null,
      "outputs": [
        {
          "output_type": "execute_result",
          "data": {
            "text/plain": [
              "set()"
            ]
          },
          "metadata": {},
          "execution_count": 63
        }
      ]
    },
    {
      "cell_type": "code",
      "source": [
        "set2 = {3,4,5,6}"
      ],
      "metadata": {
        "id": "KDxwtlpknv6I"
      },
      "execution_count": null,
      "outputs": []
    },
    {
      "cell_type": "code",
      "source": [
        "set2.pop()"
      ],
      "metadata": {
        "colab": {
          "base_uri": "https://localhost:8080/"
        },
        "id": "32NHhgoDnz5y",
        "outputId": "d55443ad-d2c1-481b-c56b-5d4931632252"
      },
      "execution_count": null,
      "outputs": [
        {
          "output_type": "execute_result",
          "data": {
            "text/plain": [
              "3"
            ]
          },
          "metadata": {},
          "execution_count": 65
        }
      ]
    },
    {
      "cell_type": "code",
      "source": [
        "set2"
      ],
      "metadata": {
        "colab": {
          "base_uri": "https://localhost:8080/"
        },
        "id": "nkuQpZ2Qn2Og",
        "outputId": "de755cd1-208d-499e-b59b-25b1508db7cb"
      },
      "execution_count": null,
      "outputs": [
        {
          "output_type": "execute_result",
          "data": {
            "text/plain": [
              "{4, 5, 6}"
            ]
          },
          "metadata": {},
          "execution_count": 66
        }
      ]
    },
    {
      "cell_type": "code",
      "source": [
        "set2.pop()"
      ],
      "metadata": {
        "id": "AHggTMHzn-IO",
        "outputId": "0490ff69-975f-4fea-a055-7582e19beafb",
        "colab": {
          "base_uri": "https://localhost:8080/"
        }
      },
      "execution_count": null,
      "outputs": [
        {
          "output_type": "execute_result",
          "data": {
            "text/plain": [
              "4"
            ]
          },
          "metadata": {},
          "execution_count": 67
        }
      ]
    },
    {
      "cell_type": "markdown",
      "source": [
        "## frozenSet"
      ],
      "metadata": {
        "id": "-Oj6lkhkwfxs"
      }
    },
    {
      "cell_type": "code",
      "source": [
        "set1 = {1,2,3,4,5}\n",
        "set2 = {'samim','jasim','komol',1,2}"
      ],
      "metadata": {
        "id": "nPbA0X7qoA6y"
      },
      "execution_count": null,
      "outputs": []
    },
    {
      "cell_type": "code",
      "source": [
        "set3 = frozenset(set1)"
      ],
      "metadata": {
        "id": "Y6fqfPrlwtGA"
      },
      "execution_count": null,
      "outputs": []
    },
    {
      "cell_type": "code",
      "source": [
        "set3"
      ],
      "metadata": {
        "colab": {
          "base_uri": "https://localhost:8080/"
        },
        "id": "fuwO85KIwyFq",
        "outputId": "8bafcfa5-6f6a-4aa9-c4f4-88007f6cca92"
      },
      "execution_count": null,
      "outputs": [
        {
          "output_type": "execute_result",
          "data": {
            "text/plain": [
              "frozenset({1, 2, 3, 4, 5})"
            ]
          },
          "metadata": {},
          "execution_count": 70
        }
      ]
    },
    {
      "cell_type": "code",
      "source": [
        "set4 = frozenset(set2)\n",
        "set4"
      ],
      "metadata": {
        "colab": {
          "base_uri": "https://localhost:8080/"
        },
        "id": "0oDpuV26wzsM",
        "outputId": "b5e97e96-fc31-4e69-dea5-4fd7137f8f62"
      },
      "execution_count": null,
      "outputs": [
        {
          "output_type": "execute_result",
          "data": {
            "text/plain": [
              "frozenset({1, 2, 'jasim', 'komol', 'samim'})"
            ]
          },
          "metadata": {},
          "execution_count": 71
        }
      ]
    },
    {
      "cell_type": "code",
      "source": [
        "list2 = [1,2,3,4]\n",
        "set5 = frozenset(list2)"
      ],
      "metadata": {
        "id": "CooH4Pq8w4fw"
      },
      "execution_count": null,
      "outputs": []
    },
    {
      "cell_type": "code",
      "source": [
        "set5"
      ],
      "metadata": {
        "colab": {
          "base_uri": "https://localhost:8080/"
        },
        "id": "EFJTVKdtxtxU",
        "outputId": "c8c55b5b-3b5a-4163-f5d7-741e1f397974"
      },
      "execution_count": null,
      "outputs": [
        {
          "output_type": "execute_result",
          "data": {
            "text/plain": [
              "frozenset({1, 2, 3, 4})"
            ]
          },
          "metadata": {},
          "execution_count": 73
        }
      ]
    },
    {
      "cell_type": "code",
      "source": [
        "set4.union(set5)"
      ],
      "metadata": {
        "colab": {
          "base_uri": "https://localhost:8080/"
        },
        "id": "uiQ5Yh1sxvRi",
        "outputId": "19405541-3b03-4b2f-951e-5870401ba569"
      },
      "execution_count": null,
      "outputs": [
        {
          "output_type": "execute_result",
          "data": {
            "text/plain": [
              "frozenset({1, 2, 3, 4, 'jasim', 'komol', 'samim'})"
            ]
          },
          "metadata": {},
          "execution_count": 74
        }
      ]
    },
    {
      "cell_type": "code",
      "source": [
        "set4.intersection(set5)"
      ],
      "metadata": {
        "colab": {
          "base_uri": "https://localhost:8080/"
        },
        "id": "6jcRun7UxzOP",
        "outputId": "f4614895-6d43-44bc-8229-808c52f0c39b"
      },
      "execution_count": null,
      "outputs": [
        {
          "output_type": "execute_result",
          "data": {
            "text/plain": [
              "frozenset({1, 2})"
            ]
          },
          "metadata": {},
          "execution_count": 75
        }
      ]
    },
    {
      "cell_type": "code",
      "source": [
        "s = 'data science'"
      ],
      "metadata": {
        "id": "D1suiuOyx35s"
      },
      "execution_count": null,
      "outputs": []
    },
    {
      "cell_type": "code",
      "source": [
        "set6 = frozenset(s)"
      ],
      "metadata": {
        "id": "nyDidPLnzz9T"
      },
      "execution_count": null,
      "outputs": []
    },
    {
      "cell_type": "code",
      "source": [
        "set6"
      ],
      "metadata": {
        "colab": {
          "base_uri": "https://localhost:8080/"
        },
        "id": "HDIvz2E0z6gm",
        "outputId": "66b0b8c9-2ae1-49ce-e719-0674fe44838e"
      },
      "execution_count": null,
      "outputs": [
        {
          "output_type": "execute_result",
          "data": {
            "text/plain": [
              "frozenset({' ', 'a', 'c', 'd', 'e', 'i', 'n', 's', 't'})"
            ]
          },
          "metadata": {},
          "execution_count": 78
        }
      ]
    },
    {
      "cell_type": "code",
      "source": [
        "[list(x) for x in set6]"
      ],
      "metadata": {
        "colab": {
          "base_uri": "https://localhost:8080/"
        },
        "id": "_tb0kf17z8sX",
        "outputId": "17bc1f4e-2a14-4606-b009-f25776332d7b"
      },
      "execution_count": null,
      "outputs": [
        {
          "output_type": "execute_result",
          "data": {
            "text/plain": [
              "[['a'], ['i'], [' '], ['n'], ['d'], ['s'], ['c'], ['t'], ['e']]"
            ]
          },
          "metadata": {},
          "execution_count": 79
        }
      ]
    },
    {
      "cell_type": "code",
      "source": [
        "[tuple(x) for x in set6]"
      ],
      "metadata": {
        "colab": {
          "base_uri": "https://localhost:8080/"
        },
        "id": "FtJLTRCn0Cvx",
        "outputId": "e750a34a-5ae0-4e75-801f-6dece234e9a7"
      },
      "execution_count": null,
      "outputs": [
        {
          "output_type": "execute_result",
          "data": {
            "text/plain": [
              "[('a',), ('i',), (' ',), ('n',), ('d',), ('s',), ('c',), ('t',), ('e',)]"
            ]
          },
          "metadata": {},
          "execution_count": 80
        }
      ]
    },
    {
      "cell_type": "code",
      "source": [
        "from IPython.display import Image"
      ],
      "metadata": {
        "id": "zMaV0K_H0J5R"
      },
      "execution_count": null,
      "outputs": []
    },
    {
      "cell_type": "code",
      "source": [
        "s1 = {1,2,3,4,5}"
      ],
      "metadata": {
        "id": "ksoKMv9f71Pr"
      },
      "execution_count": null,
      "outputs": []
    },
    {
      "cell_type": "code",
      "source": [
        "s2 = {5,6,7,8}"
      ],
      "metadata": {
        "id": "nAh9Kqp386oX"
      },
      "execution_count": null,
      "outputs": []
    },
    {
      "cell_type": "code",
      "source": [
        "s1.add('jasim')"
      ],
      "metadata": {
        "id": "RYUdTl0p8-hv"
      },
      "execution_count": null,
      "outputs": []
    },
    {
      "cell_type": "code",
      "source": [
        "s1"
      ],
      "metadata": {
        "colab": {
          "base_uri": "https://localhost:8080/"
        },
        "id": "dQbroRZD9BBB",
        "outputId": "f488e5d1-85f4-4e94-c538-d3e303b39d46"
      },
      "execution_count": null,
      "outputs": [
        {
          "output_type": "execute_result",
          "data": {
            "text/plain": [
              "{1, 2, 3, 4, 5, 'jasim'}"
            ]
          },
          "metadata": {},
          "execution_count": 85
        }
      ]
    },
    {
      "cell_type": "code",
      "source": [
        "s3 = s1"
      ],
      "metadata": {
        "id": "EMNFRLdc9B-f"
      },
      "execution_count": null,
      "outputs": []
    },
    {
      "cell_type": "code",
      "source": [
        "s3"
      ],
      "metadata": {
        "colab": {
          "base_uri": "https://localhost:8080/"
        },
        "id": "fnEHdWyz9KAF",
        "outputId": "3f18c4ad-1953-40ef-bbfe-40f534f26515"
      },
      "execution_count": null,
      "outputs": [
        {
          "output_type": "execute_result",
          "data": {
            "text/plain": [
              "{1, 2, 3, 4, 5, 'jasim'}"
            ]
          },
          "metadata": {},
          "execution_count": 87
        }
      ]
    },
    {
      "cell_type": "code",
      "source": [
        "s1"
      ],
      "metadata": {
        "colab": {
          "base_uri": "https://localhost:8080/"
        },
        "id": "50Sew13W9LNJ",
        "outputId": "01bd61fc-b490-4311-9abf-6584aaef22e2"
      },
      "execution_count": null,
      "outputs": [
        {
          "output_type": "execute_result",
          "data": {
            "text/plain": [
              "{1, 2, 3, 4, 5, 'jasim'}"
            ]
          },
          "metadata": {},
          "execution_count": 88
        }
      ]
    },
    {
      "cell_type": "code",
      "source": [
        "s3.remove('jasim')"
      ],
      "metadata": {
        "id": "O9OMMPDI9MKm"
      },
      "execution_count": null,
      "outputs": []
    },
    {
      "cell_type": "code",
      "source": [
        "s3"
      ],
      "metadata": {
        "colab": {
          "base_uri": "https://localhost:8080/"
        },
        "id": "TrNtB0RU9PAD",
        "outputId": "47675d89-7313-4900-e2ca-e06941d94e24"
      },
      "execution_count": null,
      "outputs": [
        {
          "output_type": "execute_result",
          "data": {
            "text/plain": [
              "{1, 2, 3, 4, 5}"
            ]
          },
          "metadata": {},
          "execution_count": 90
        }
      ]
    },
    {
      "cell_type": "code",
      "source": [
        "s1"
      ],
      "metadata": {
        "colab": {
          "base_uri": "https://localhost:8080/"
        },
        "id": "t0tZlEIc9QGU",
        "outputId": "350e7ff9-cd3a-4f19-f23f-b486a5e93b5a"
      },
      "execution_count": null,
      "outputs": [
        {
          "output_type": "execute_result",
          "data": {
            "text/plain": [
              "{1, 2, 3, 4, 5}"
            ]
          },
          "metadata": {},
          "execution_count": 91
        }
      ]
    },
    {
      "cell_type": "code",
      "source": [
        "s3 = s1.copy()"
      ],
      "metadata": {
        "id": "ckcSw2EJ9RK0"
      },
      "execution_count": null,
      "outputs": []
    },
    {
      "cell_type": "code",
      "source": [
        "s3"
      ],
      "metadata": {
        "colab": {
          "base_uri": "https://localhost:8080/"
        },
        "id": "9B6nkT84938V",
        "outputId": "73731706-9d78-4c4a-fa60-f7b5cc334981"
      },
      "execution_count": null,
      "outputs": [
        {
          "output_type": "execute_result",
          "data": {
            "text/plain": [
              "{1, 2, 3, 4, 5}"
            ]
          },
          "metadata": {},
          "execution_count": 93
        }
      ]
    },
    {
      "cell_type": "code",
      "source": [
        "s1\n"
      ],
      "metadata": {
        "colab": {
          "base_uri": "https://localhost:8080/"
        },
        "id": "k3gVw_jC94-n",
        "outputId": "9d17690c-902b-43fe-8119-00e2d48465ca"
      },
      "execution_count": null,
      "outputs": [
        {
          "output_type": "execute_result",
          "data": {
            "text/plain": [
              "{1, 2, 3, 4, 5}"
            ]
          },
          "metadata": {},
          "execution_count": 94
        }
      ]
    },
    {
      "cell_type": "code",
      "source": [
        "s1.remove(5)"
      ],
      "metadata": {
        "id": "0FIqdsaq955-"
      },
      "execution_count": null,
      "outputs": []
    },
    {
      "cell_type": "code",
      "source": [
        "s3"
      ],
      "metadata": {
        "colab": {
          "base_uri": "https://localhost:8080/"
        },
        "id": "BmjKJgUL9_J0",
        "outputId": "46d3a25d-dbad-4753-ce90-a10030cf9ba8"
      },
      "execution_count": null,
      "outputs": [
        {
          "output_type": "execute_result",
          "data": {
            "text/plain": [
              "{1, 2, 3, 4, 5}"
            ]
          },
          "metadata": {},
          "execution_count": 96
        }
      ]
    },
    {
      "cell_type": "code",
      "source": [
        "s1"
      ],
      "metadata": {
        "colab": {
          "base_uri": "https://localhost:8080/"
        },
        "id": "94S2Ejje-A0W",
        "outputId": "b783457e-64ae-47b9-9d63-01243dc13adf"
      },
      "execution_count": null,
      "outputs": [
        {
          "output_type": "execute_result",
          "data": {
            "text/plain": [
              "{1, 2, 3, 4}"
            ]
          },
          "metadata": {},
          "execution_count": 97
        }
      ]
    },
    {
      "cell_type": "code",
      "source": [
        "s1.difference(s2)"
      ],
      "metadata": {
        "colab": {
          "base_uri": "https://localhost:8080/"
        },
        "id": "Is859sHy-Byx",
        "outputId": "b7847171-f94e-4fd6-9528-e3021e7f8845"
      },
      "execution_count": null,
      "outputs": [
        {
          "output_type": "execute_result",
          "data": {
            "text/plain": [
              "{1, 2, 3, 4}"
            ]
          },
          "metadata": {},
          "execution_count": 98
        }
      ]
    },
    {
      "cell_type": "code",
      "source": [
        "s2.difference(s1)"
      ],
      "metadata": {
        "colab": {
          "base_uri": "https://localhost:8080/"
        },
        "id": "NlIyUlCS-PUv",
        "outputId": "86f8bc4c-a6ba-4d58-8e6a-1559d7cf7a27"
      },
      "execution_count": null,
      "outputs": [
        {
          "output_type": "execute_result",
          "data": {
            "text/plain": [
              "{5, 6, 7, 8}"
            ]
          },
          "metadata": {},
          "execution_count": 99
        }
      ]
    },
    {
      "cell_type": "code",
      "source": [
        "s1 ={1,2,3}\n",
        "s2 ={3,4}"
      ],
      "metadata": {
        "id": "4eIlHl7h-WiS"
      },
      "execution_count": null,
      "outputs": []
    },
    {
      "cell_type": "code",
      "source": [
        "s1.difference_update(s2)"
      ],
      "metadata": {
        "id": "Nd-dHSuF_r0r"
      },
      "execution_count": null,
      "outputs": []
    },
    {
      "cell_type": "code",
      "source": [
        "s1"
      ],
      "metadata": {
        "colab": {
          "base_uri": "https://localhost:8080/"
        },
        "id": "mZRETU_2_w3C",
        "outputId": "9eff503d-ccc7-4129-cf9f-a095c3e0e371"
      },
      "execution_count": null,
      "outputs": [
        {
          "output_type": "execute_result",
          "data": {
            "text/plain": [
              "{1, 2}"
            ]
          },
          "metadata": {},
          "execution_count": 102
        }
      ]
    },
    {
      "cell_type": "code",
      "source": [
        "s1.issubset(s3)"
      ],
      "metadata": {
        "colab": {
          "base_uri": "https://localhost:8080/"
        },
        "id": "sKLP5Vr-_yvY",
        "outputId": "b896a5fe-3a69-44c8-9e28-ddc471940ae6"
      },
      "execution_count": null,
      "outputs": [
        {
          "output_type": "execute_result",
          "data": {
            "text/plain": [
              "True"
            ]
          },
          "metadata": {},
          "execution_count": 103
        }
      ]
    },
    {
      "cell_type": "markdown",
      "source": [
        "## Array"
      ],
      "metadata": {
        "id": "VCb-w8ZmBcHb"
      }
    },
    {
      "cell_type": "code",
      "source": [
        "import array as ar\n",
        "arr1 = ar.array('i', [1,2,3,4])\n",
        "arr1"
      ],
      "metadata": {
        "id": "OYb0ZXFC_9X1",
        "colab": {
          "base_uri": "https://localhost:8080/"
        },
        "outputId": "c7a167b1-4800-42f7-d2ee-ae6cfb4d6de1"
      },
      "execution_count": null,
      "outputs": [
        {
          "output_type": "execute_result",
          "data": {
            "text/plain": [
              "array('i', [1, 2, 3, 4])"
            ]
          },
          "metadata": {},
          "execution_count": 104
        }
      ]
    },
    {
      "cell_type": "code",
      "source": [
        "arr1 = ar.array('f', [1,2,3,4.5])"
      ],
      "metadata": {
        "id": "CRM7TURy9maa"
      },
      "execution_count": null,
      "outputs": []
    },
    {
      "cell_type": "code",
      "source": [
        "arr1"
      ],
      "metadata": {
        "colab": {
          "base_uri": "https://localhost:8080/"
        },
        "id": "cu9oEHm5-E8g",
        "outputId": "1d340b66-d788-4ca9-e282-56128feb8ead"
      },
      "execution_count": null,
      "outputs": [
        {
          "output_type": "execute_result",
          "data": {
            "text/plain": [
              "array('f', [1.0, 2.0, 3.0, 4.5])"
            ]
          },
          "metadata": {},
          "execution_count": 106
        }
      ]
    },
    {
      "cell_type": "code",
      "source": [
        "arr1[0]"
      ],
      "metadata": {
        "colab": {
          "base_uri": "https://localhost:8080/"
        },
        "id": "N3TRai2N_JZ_",
        "outputId": "077c085a-ffe6-4ae9-8230-38f55d0e8aa3"
      },
      "execution_count": null,
      "outputs": [
        {
          "output_type": "execute_result",
          "data": {
            "text/plain": [
              "1.0"
            ]
          },
          "metadata": {},
          "execution_count": 107
        }
      ]
    },
    {
      "cell_type": "code",
      "source": [
        "arr1[0] = 12"
      ],
      "metadata": {
        "id": "bwAAUpmb_fM7"
      },
      "execution_count": null,
      "outputs": []
    },
    {
      "cell_type": "code",
      "source": [
        "arr1"
      ],
      "metadata": {
        "colab": {
          "base_uri": "https://localhost:8080/"
        },
        "id": "zS8zKQll_kRe",
        "outputId": "842dc887-f4ff-4968-9f7f-12c9aa058303"
      },
      "execution_count": null,
      "outputs": [
        {
          "output_type": "execute_result",
          "data": {
            "text/plain": [
              "array('f', [12.0, 2.0, 3.0, 4.5])"
            ]
          },
          "metadata": {},
          "execution_count": 109
        }
      ]
    },
    {
      "cell_type": "code",
      "source": [
        "arr1[2:]"
      ],
      "metadata": {
        "colab": {
          "base_uri": "https://localhost:8080/"
        },
        "id": "zLyzvZQy_uhH",
        "outputId": "c0fd8c6d-6a4d-475d-e122-f290b6665e72"
      },
      "execution_count": null,
      "outputs": [
        {
          "output_type": "execute_result",
          "data": {
            "text/plain": [
              "array('f', [3.0, 4.5])"
            ]
          },
          "metadata": {},
          "execution_count": 110
        }
      ]
    },
    {
      "cell_type": "code",
      "source": [
        "arr1[2:4]"
      ],
      "metadata": {
        "colab": {
          "base_uri": "https://localhost:8080/"
        },
        "id": "hN_B9GS_ADNE",
        "outputId": "4e34f8a1-bac9-4be7-fb74-048c3e741dff"
      },
      "execution_count": null,
      "outputs": [
        {
          "output_type": "execute_result",
          "data": {
            "text/plain": [
              "array('f', [3.0, 4.5])"
            ]
          },
          "metadata": {},
          "execution_count": 111
        }
      ]
    },
    {
      "cell_type": "code",
      "source": [
        "arr1.append(12)"
      ],
      "metadata": {
        "id": "mVbfrzK9ALg-"
      },
      "execution_count": null,
      "outputs": []
    },
    {
      "cell_type": "code",
      "source": [
        "arr1"
      ],
      "metadata": {
        "colab": {
          "base_uri": "https://localhost:8080/"
        },
        "id": "VjSbqAwwASD1",
        "outputId": "693e6d9d-c2d9-4453-c226-5083ce2b30fc"
      },
      "execution_count": null,
      "outputs": [
        {
          "output_type": "execute_result",
          "data": {
            "text/plain": [
              "array('f', [12.0, 2.0, 3.0, 4.5, 12.0])"
            ]
          },
          "metadata": {},
          "execution_count": 113
        }
      ]
    },
    {
      "cell_type": "code",
      "source": [
        "len(arr1)"
      ],
      "metadata": {
        "colab": {
          "base_uri": "https://localhost:8080/"
        },
        "id": "85BQNqqmATRM",
        "outputId": "eb81c1bf-2e61-4669-c2c7-c4e5e57f579b"
      },
      "execution_count": null,
      "outputs": [
        {
          "output_type": "execute_result",
          "data": {
            "text/plain": [
              "5"
            ]
          },
          "metadata": {},
          "execution_count": 114
        }
      ]
    },
    {
      "cell_type": "code",
      "source": [
        "del arr1[-1]"
      ],
      "metadata": {
        "id": "Uce98HiUAauJ"
      },
      "execution_count": null,
      "outputs": []
    },
    {
      "cell_type": "code",
      "source": [
        "len(arr1)"
      ],
      "metadata": {
        "colab": {
          "base_uri": "https://localhost:8080/"
        },
        "id": "k85lR5ODAeC6",
        "outputId": "eb6b7ed8-6dba-44f7-bd4c-b5152200ddca"
      },
      "execution_count": null,
      "outputs": [
        {
          "output_type": "execute_result",
          "data": {
            "text/plain": [
              "4"
            ]
          },
          "metadata": {},
          "execution_count": 116
        }
      ]
    },
    {
      "cell_type": "code",
      "source": [
        "arr1.reverse()"
      ],
      "metadata": {
        "id": "u0zA39D1Ag2R"
      },
      "execution_count": null,
      "outputs": []
    },
    {
      "cell_type": "code",
      "source": [
        "arr1"
      ],
      "metadata": {
        "colab": {
          "base_uri": "https://localhost:8080/"
        },
        "id": "TNQ-YhQbApfZ",
        "outputId": "a2c55cc7-8328-464b-990f-a8edd62a2449"
      },
      "execution_count": null,
      "outputs": [
        {
          "output_type": "execute_result",
          "data": {
            "text/plain": [
              "array('f', [4.5, 3.0, 2.0, 12.0])"
            ]
          },
          "metadata": {},
          "execution_count": 118
        }
      ]
    },
    {
      "cell_type": "code",
      "source": [
        "arr1.count(4.5)"
      ],
      "metadata": {
        "colab": {
          "base_uri": "https://localhost:8080/"
        },
        "id": "PmG9HnyZBESe",
        "outputId": "d61a5a68-f931-4eb3-b0e8-a422cf98541a"
      },
      "execution_count": null,
      "outputs": [
        {
          "output_type": "execute_result",
          "data": {
            "text/plain": [
              "1"
            ]
          },
          "metadata": {},
          "execution_count": 119
        }
      ]
    },
    {
      "cell_type": "code",
      "source": [
        "arr1.index(4.5)"
      ],
      "metadata": {
        "colab": {
          "base_uri": "https://localhost:8080/"
        },
        "id": "0n9RtkiGBqrB",
        "outputId": "8b007a77-4985-4162-a58e-ae49b3dfcbfd"
      },
      "execution_count": null,
      "outputs": [
        {
          "output_type": "execute_result",
          "data": {
            "text/plain": [
              "0"
            ]
          },
          "metadata": {},
          "execution_count": 120
        }
      ]
    },
    {
      "cell_type": "code",
      "source": [
        "arr1.pop(2)   # 3 is index no"
      ],
      "metadata": {
        "colab": {
          "base_uri": "https://localhost:8080/"
        },
        "id": "gEDYJVVZByRW",
        "outputId": "bb22f160-3ea2-4495-c9a6-d275995b1871"
      },
      "execution_count": null,
      "outputs": [
        {
          "output_type": "execute_result",
          "data": {
            "text/plain": [
              "2.0"
            ]
          },
          "metadata": {},
          "execution_count": 121
        }
      ]
    },
    {
      "cell_type": "code",
      "source": [
        "arr1"
      ],
      "metadata": {
        "colab": {
          "base_uri": "https://localhost:8080/"
        },
        "id": "--QBBXtkB3ff",
        "outputId": "14ef2e11-9a8b-4750-9f21-bc1991ffe1ef"
      },
      "execution_count": null,
      "outputs": [
        {
          "output_type": "execute_result",
          "data": {
            "text/plain": [
              "array('f', [4.5, 3.0, 12.0])"
            ]
          },
          "metadata": {},
          "execution_count": 122
        }
      ]
    },
    {
      "cell_type": "code",
      "source": [
        "arr1.remove(4.5)"
      ],
      "metadata": {
        "id": "_hdoLqleDxBf"
      },
      "execution_count": null,
      "outputs": []
    },
    {
      "cell_type": "code",
      "source": [
        "arr1"
      ],
      "metadata": {
        "colab": {
          "base_uri": "https://localhost:8080/"
        },
        "id": "XlSG5yeMD96R",
        "outputId": "20b3b1b6-aaa1-420f-d987-0536f01ec310"
      },
      "execution_count": null,
      "outputs": [
        {
          "output_type": "execute_result",
          "data": {
            "text/plain": [
              "array('f', [3.0, 12.0])"
            ]
          },
          "metadata": {},
          "execution_count": 124
        }
      ]
    },
    {
      "cell_type": "code",
      "source": [
        "r = ar.array('f',[])\n",
        "items = int(input())\n",
        "for i in range(items):\n",
        "  x = int(input())\n",
        "  r.append(x)\n",
        "print(r)"
      ],
      "metadata": {
        "id": "b5LTrL-HD_t9"
      },
      "execution_count": null,
      "outputs": []
    },
    {
      "cell_type": "markdown",
      "source": [
        "## Dictionaries"
      ],
      "metadata": {
        "id": "YJfnS3CAFJhT"
      }
    },
    {
      "cell_type": "code",
      "source": [
        "dic = {\n",
        "    'name':'jasim',\n",
        "    'versity':'RUET'\n",
        "}"
      ],
      "metadata": {
        "id": "uv522F7YETfV"
      },
      "execution_count": 4,
      "outputs": []
    },
    {
      "cell_type": "code",
      "source": [
        "dic.keys()"
      ],
      "metadata": {
        "id": "I4v8Y6x-FW_9"
      },
      "execution_count": null,
      "outputs": []
    },
    {
      "cell_type": "code",
      "source": [
        "dic.values()"
      ],
      "metadata": {
        "id": "DxQVv0XGFaRm"
      },
      "execution_count": null,
      "outputs": []
    },
    {
      "cell_type": "code",
      "source": [
        "dic2 = dic.copy()"
      ],
      "metadata": {
        "id": "mY9fYOjEFevH"
      },
      "execution_count": null,
      "outputs": []
    },
    {
      "cell_type": "code",
      "source": [
        "dic2"
      ],
      "metadata": {
        "id": "8SkCk45UGd_S"
      },
      "execution_count": null,
      "outputs": []
    },
    {
      "cell_type": "code",
      "source": [
        "dic2['versity']= 'Brack'"
      ],
      "metadata": {
        "id": "pRWEPC0oGfBP"
      },
      "execution_count": null,
      "outputs": []
    },
    {
      "cell_type": "code",
      "source": [
        "dic2"
      ],
      "metadata": {
        "id": "3ZQ8eqWCGoB6"
      },
      "execution_count": null,
      "outputs": []
    },
    {
      "cell_type": "code",
      "source": [
        "dic"
      ],
      "metadata": {
        "id": "i-nFbvvfGqJF"
      },
      "execution_count": null,
      "outputs": []
    },
    {
      "cell_type": "code",
      "source": [
        "dic['versity'] = 'Mist'"
      ],
      "metadata": {
        "id": "YS5ifNBQGryM"
      },
      "execution_count": null,
      "outputs": []
    },
    {
      "cell_type": "code",
      "source": [
        "dic"
      ],
      "metadata": {
        "id": "EGgzGudkGw4x"
      },
      "execution_count": null,
      "outputs": []
    },
    {
      "cell_type": "code",
      "source": [
        "dic.update({'Dept':'CSE'})"
      ],
      "metadata": {
        "id": "NkqxwJD2GyjT"
      },
      "execution_count": null,
      "outputs": []
    },
    {
      "cell_type": "code",
      "source": [
        "dic"
      ],
      "metadata": {
        "id": "m7A6LEniHEND"
      },
      "execution_count": null,
      "outputs": []
    },
    {
      "cell_type": "code",
      "source": [
        "dic.popitem()"
      ],
      "metadata": {
        "id": "1xDRyd4vHFYb"
      },
      "execution_count": null,
      "outputs": []
    },
    {
      "cell_type": "code",
      "source": [
        "dic"
      ],
      "metadata": {
        "id": "Y7S5UjKkHL2w"
      },
      "execution_count": null,
      "outputs": []
    },
    {
      "cell_type": "code",
      "source": [
        "dic.pop('versity')"
      ],
      "metadata": {
        "id": "aXtDEfnZHRJv"
      },
      "execution_count": null,
      "outputs": []
    },
    {
      "cell_type": "code",
      "source": [
        "dic.update({'versity':'Ruet'})"
      ],
      "metadata": {
        "id": "lozUVjbSHeSg"
      },
      "execution_count": null,
      "outputs": []
    },
    {
      "cell_type": "code",
      "source": [
        "dic"
      ],
      "metadata": {
        "id": "p9Ms0yiWHkrt"
      },
      "execution_count": null,
      "outputs": []
    },
    {
      "cell_type": "code",
      "source": [
        "dic['age'] = 23"
      ],
      "metadata": {
        "id": "mJMdx7LsHlnf"
      },
      "execution_count": null,
      "outputs": []
    },
    {
      "cell_type": "code",
      "source": [
        "dic"
      ],
      "metadata": {
        "colab": {
          "base_uri": "https://localhost:8080/"
        },
        "id": "3fYThmj93gBA",
        "outputId": "7ab26b44-9d0d-43af-c63c-1b1cba4462df"
      },
      "execution_count": 5,
      "outputs": [
        {
          "output_type": "execute_result",
          "data": {
            "text/plain": [
              "{'name': 'jasim', 'versity': 'RUET'}"
            ]
          },
          "metadata": {},
          "execution_count": 5
        }
      ]
    },
    {
      "cell_type": "code",
      "source": [
        "details = {}\n",
        "n =int(input())\n",
        "for i in range(n):\n",
        "  key = input()\n",
        "  value = input()\n",
        "  details[key] = value\n",
        "print(details)"
      ],
      "metadata": {
        "colab": {
          "base_uri": "https://localhost:8080/"
        },
        "id": "vm3REhNs3xmq",
        "outputId": "d666abe9-0e8a-4988-8120-04cf8cbcdd3a"
      },
      "execution_count": 6,
      "outputs": [
        {
          "output_type": "stream",
          "name": "stdout",
          "text": [
            "3\n",
            "jasim\n",
            "name\n",
            "age\n",
            "23\n",
            "dept\n",
            "se\n",
            "{'jasim': 'name', 'age': '23', 'dept': 'se'}\n"
          ]
        }
      ]
    },
    {
      "cell_type": "markdown",
      "source": [
        "# Zip() in Python "
      ],
      "metadata": {
        "id": "Prt3OEJW7t-j"
      }
    },
    {
      "cell_type": "code",
      "source": [
        "name = ['jasim', 'harun','Ramjan']\n",
        "dept = ['Ruet', 'Ruet', 'Delowar']"
      ],
      "metadata": {
        "id": "RsvsvAvi6sMS"
      },
      "execution_count": 7,
      "outputs": []
    },
    {
      "cell_type": "code",
      "source": [
        "zip(name, dept)"
      ],
      "metadata": {
        "colab": {
          "base_uri": "https://localhost:8080/"
        },
        "id": "hkyAC5Q_7-uN",
        "outputId": "dee96ed1-adef-4859-ac67-4c14e5e03c71"
      },
      "execution_count": 8,
      "outputs": [
        {
          "output_type": "execute_result",
          "data": {
            "text/plain": [
              "<zip at 0x7f82d3a228c0>"
            ]
          },
          "metadata": {},
          "execution_count": 8
        }
      ]
    },
    {
      "cell_type": "code",
      "source": [
        "zipped = zip(name, dept)"
      ],
      "metadata": {
        "id": "x-kfBuh-8BlO"
      },
      "execution_count": 9,
      "outputs": []
    },
    {
      "cell_type": "code",
      "source": [
        "print(list(zipped))"
      ],
      "metadata": {
        "colab": {
          "base_uri": "https://localhost:8080/"
        },
        "id": "um2V2ALH8HpO",
        "outputId": "3694a00f-fa2c-44e8-f61b-89d580ce86fb"
      },
      "execution_count": 10,
      "outputs": [
        {
          "output_type": "stream",
          "name": "stdout",
          "text": [
            "[('jasim', 'Ruet'), ('harun', 'Ruet'), ('Ramjan', 'Delowar')]\n"
          ]
        }
      ]
    },
    {
      "cell_type": "code",
      "source": [
        "tup = tuple(zip(name,dept))"
      ],
      "metadata": {
        "id": "xq3S51q08KnJ"
      },
      "execution_count": 11,
      "outputs": []
    },
    {
      "cell_type": "code",
      "source": [
        "tup"
      ],
      "metadata": {
        "colab": {
          "base_uri": "https://localhost:8080/"
        },
        "id": "Myb10znc8Usd",
        "outputId": "80067d54-a5fc-4f0f-d9ab-a86c4e9625ba"
      },
      "execution_count": 12,
      "outputs": [
        {
          "output_type": "execute_result",
          "data": {
            "text/plain": [
              "(('jasim', 'Ruet'), ('harun', 'Ruet'), ('Ramjan', 'Delowar'))"
            ]
          },
          "metadata": {},
          "execution_count": 12
        }
      ]
    },
    {
      "cell_type": "code",
      "source": [
        "zipped = list(zip(name,dept))"
      ],
      "metadata": {
        "id": "c2oMvPWt8WMo"
      },
      "execution_count": 19,
      "outputs": []
    },
    {
      "cell_type": "code",
      "source": [
        "zipped"
      ],
      "metadata": {
        "colab": {
          "base_uri": "https://localhost:8080/"
        },
        "id": "eDtFw3p59TgD",
        "outputId": "ab96711b-b002-4a4b-b9bb-3aeefd44ce8c"
      },
      "execution_count": 20,
      "outputs": [
        {
          "output_type": "execute_result",
          "data": {
            "text/plain": [
              "[('jasim', 'Ruet'), ('harun', 'Ruet'), ('Ramjan', 'Delowar')]"
            ]
          },
          "metadata": {},
          "execution_count": 20
        }
      ]
    },
    {
      "cell_type": "code",
      "source": [
        "name1,dept1 = zip(*zipped)"
      ],
      "metadata": {
        "id": "PtRRnJAa9pgA"
      },
      "execution_count": 21,
      "outputs": []
    },
    {
      "cell_type": "code",
      "source": [
        "name1"
      ],
      "metadata": {
        "colab": {
          "base_uri": "https://localhost:8080/"
        },
        "id": "9odbSL0N-beD",
        "outputId": "c22c2a73-fa6f-422e-d237-fa21543fb90d"
      },
      "execution_count": 22,
      "outputs": [
        {
          "output_type": "execute_result",
          "data": {
            "text/plain": [
              "('jasim', 'harun', 'Ramjan')"
            ]
          },
          "metadata": {},
          "execution_count": 22
        }
      ]
    },
    {
      "cell_type": "code",
      "source": [
        "dept1"
      ],
      "metadata": {
        "colab": {
          "base_uri": "https://localhost:8080/"
        },
        "id": "BbCdzkDL-cps",
        "outputId": "ed071f3b-8362-4785-f926-b5328a2b0b34"
      },
      "execution_count": 23,
      "outputs": [
        {
          "output_type": "execute_result",
          "data": {
            "text/plain": [
              "('Ruet', 'Ruet', 'Delowar')"
            ]
          },
          "metadata": {},
          "execution_count": 23
        }
      ]
    },
    {
      "cell_type": "code",
      "source": [
        "import zipfile as zp\n",
        "zipp = zp.ZipFile('Zipped.zip','w')"
      ],
      "metadata": {
        "id": "iroXVemn-f89"
      },
      "execution_count": 27,
      "outputs": []
    },
    {
      "cell_type": "code",
      "source": [
        "zipp"
      ],
      "metadata": {
        "colab": {
          "base_uri": "https://localhost:8080/"
        },
        "id": "eoJqySlANxrW",
        "outputId": "09f5b29c-a3d4-4ba1-9d28-8598c339e325"
      },
      "execution_count": 28,
      "outputs": [
        {
          "output_type": "execute_result",
          "data": {
            "text/plain": [
              "<zipfile.ZipFile filename='Zipped.zip' mode='w'>"
            ]
          },
          "metadata": {},
          "execution_count": 28
        }
      ]
    },
    {
      "cell_type": "code",
      "source": [
        "zipp.write('/content/DSC_0284.JPG')\n",
        "zipp.write('/content/DSC_0410.JPG')"
      ],
      "metadata": {
        "id": "Gu0dueXlN4Oh"
      },
      "execution_count": 29,
      "outputs": []
    },
    {
      "cell_type": "code",
      "source": [
        "zipp"
      ],
      "metadata": {
        "colab": {
          "base_uri": "https://localhost:8080/"
        },
        "id": "WPMedL3HOPLL",
        "outputId": "20558509-ba91-475e-e412-c4e750e404f4"
      },
      "execution_count": 30,
      "outputs": [
        {
          "output_type": "execute_result",
          "data": {
            "text/plain": [
              "<zipfile.ZipFile filename='Zipped.zip' mode='w'>"
            ]
          },
          "metadata": {},
          "execution_count": 30
        }
      ]
    },
    {
      "cell_type": "code",
      "source": [],
      "metadata": {
        "id": "zC_r-ku7OSyH"
      },
      "execution_count": null,
      "outputs": []
    }
  ]
}